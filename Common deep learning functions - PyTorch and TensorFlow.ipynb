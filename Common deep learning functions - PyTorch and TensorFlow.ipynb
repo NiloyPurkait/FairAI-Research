{
 "cells": [
  {
   "cell_type": "markdown",
   "metadata": {},
   "source": [
    "## Translating deep learning code \n",
    "### from Pytorch to TensorFlow \n",
    "\n",
    "\n",
    "This notebook contains both Tensorflow and Pytorch versions of some functions from the Paper: ***Variational fair Information bottlekneck***. The paper addresses how to generate fair representations of data, devoid of bias w.r.t sensitive attributes (such as age, race, sex, etc.). \n",
    "\n",
    "- The original PyTorch functions were retrieved from the author's GitHub repo, which can be found at: https://github.com/sajadn/Variational-Fair-Information-Bottleneck\n",
    "\n",
    "- Original Paper : http://www.cs.toronto.edu/~sajadn/sajad_norouzi/CSC2541_report.pdf\n"
   ]
  },
  {
   "cell_type": "code",
   "execution_count": 1,
   "metadata": {},
   "outputs": [],
   "source": [
    "import tensorflow as tf\n",
    "from tensorflow.keras import backend as K\n",
    "import numpy as np\n",
    "import torch\n",
    "\n"
   ]
  },
  {
   "cell_type": "code",
   "execution_count": 2,
   "metadata": {},
   "outputs": [
    {
     "name": "stdout",
     "output_type": "stream",
     "text": [
      "numpy: 1.19.2\n",
      "Pytorch: 1.7.1\n",
      "TensorFlow: 2.4.1\n",
      "keras: 2.4.0\n"
     ]
    }
   ],
   "source": [
    "print(f\"numpy: {np.__version__}\")\n",
    "print(f\"Pytorch: {torch.__version__}\")\n",
    "print(f\"TensorFlow: {tf.__version__}\")\n",
    "print(f\"keras: {tf.keras.__version__}\")"
   ]
  },
  {
   "cell_type": "markdown",
   "metadata": {},
   "source": [
    "### Make some random tensors"
   ]
  },
  {
   "cell_type": "code",
   "execution_count": 3,
   "metadata": {},
   "outputs": [],
   "source": [
    "#random tensors\n",
    "\n",
    "#Tensorflow\n",
    "tf_T = tf.random.uniform([2,5])\n",
    "\n",
    "# Same tensor to pytorch\n",
    "pt_T = torch.tensor(tf_T.numpy())"
   ]
  },
  {
   "cell_type": "code",
   "execution_count": 4,
   "metadata": {},
   "outputs": [
    {
     "data": {
      "text/plain": [
       "TensorShape([2, 5])"
      ]
     },
     "execution_count": 4,
     "metadata": {},
     "output_type": "execute_result"
    }
   ],
   "source": [
    "tf_T.shape# check shape of tf tensor"
   ]
  },
  {
   "cell_type": "code",
   "execution_count": 5,
   "metadata": {},
   "outputs": [
    {
     "data": {
      "text/plain": [
       "torch.Size([2, 5])"
      ]
     },
     "execution_count": 5,
     "metadata": {},
     "output_type": "execute_result"
    }
   ],
   "source": [
    "pt_T.size()# Check shape of pt tensor"
   ]
  },
  {
   "cell_type": "markdown",
   "metadata": {},
   "source": [
    "### Gaussian Entropy"
   ]
  },
  {
   "cell_type": "code",
   "execution_count": 6,
   "metadata": {},
   "outputs": [],
   "source": [
    "# Pytorch\n",
    "def entropy_gaussian(mu, sigma, mean=True):\n",
    "    msigma = sigma.view(sigma.shape[0], -1)\n",
    "    return torch.mean(0.5*(msigma))"
   ]
  },
  {
   "cell_type": "code",
   "execution_count": 7,
   "metadata": {},
   "outputs": [],
   "source": [
    "#TensorFlow\n",
    "def tf_entropy_gaussian(mu, sigma, mean=True):\n",
    "    msigma = tf.reshape(sigma, (sigma.shape[0], -1))\n",
    "    return tf.reduce_mean(0.5*msigma)"
   ]
  },
  {
   "cell_type": "code",
   "execution_count": 8,
   "metadata": {},
   "outputs": [
    {
     "data": {
      "text/plain": [
       "tensor(0.2740)"
      ]
     },
     "execution_count": 8,
     "metadata": {},
     "output_type": "execute_result"
    }
   ],
   "source": [
    "# Pytorch test\n",
    "entropy_gaussian(pt_T, pt_T)"
   ]
  },
  {
   "cell_type": "code",
   "execution_count": 9,
   "metadata": {},
   "outputs": [
    {
     "data": {
      "text/plain": [
       "<tf.Tensor: shape=(), dtype=float32, numpy=0.2740054>"
      ]
     },
     "execution_count": 9,
     "metadata": {},
     "output_type": "execute_result"
    }
   ],
   "source": [
    "# TensorFlow test\n",
    "tf_entropy_gaussian(tf_T,tf_T)"
   ]
  },
  {
   "cell_type": "markdown",
   "metadata": {},
   "source": [
    "### Negative log bernoulli"
   ]
  },
  {
   "cell_type": "code",
   "execution_count": 10,
   "metadata": {},
   "outputs": [],
   "source": [
    "# Pytorch\n",
    "log_sigmoid = torch.nn.LogSigmoid()\n",
    "def negative_log_bernoulli(data, mu, mean=True, clamp=True):\n",
    "    if clamp:\n",
    "        mu = torch.clamp(mu, min=-9.5, max=9.5)\n",
    "    mdata = data.view(data.shape[0], -1)\n",
    "    mmu = mu.view(data.shape[0], -1)\n",
    "    log_prob_1 = log_sigmoid(mmu)\n",
    "    log_prob_2 = log_sigmoid(-mmu)\n",
    "    log_likelihood = -torch.mean((mdata*log_prob_1)+(1-mdata)*log_prob_2)\n",
    "    return log_likelihood"
   ]
  },
  {
   "cell_type": "code",
   "execution_count": 11,
   "metadata": {},
   "outputs": [],
   "source": [
    "# TensorFlow\n",
    "def tf_negative_log_bernoulli(data, mu, mean=True, clamp=True):\n",
    "    cast_double = lambda x: tf.cast(x, tf.double)\n",
    "    cast_shape = lambda x, d : tf.reshape(x, (d.shape[0],-1))\n",
    "    chain_ops = lambda x, d : cast_double(cast_shape(x, d))\n",
    "    \n",
    "    if clamp:\n",
    "        mu = K.clip(mu, -9.5, 9.5)\n",
    "    mdata = chain_ops(data, data)\n",
    "    mmu = chain_ops(mu, data)\n",
    "    \n",
    "    log_prob_1 = tf.math.log_sigmoid(mmu)\n",
    "    log_prob_2 = tf.math.log_sigmoid(-mmu)\n",
    "    log_likelihood = -tf.reduce_mean((mdata*log_prob_1)+(1-mdata)*log_prob_2)\n",
    "    return log_likelihood\n",
    "\n"
   ]
  },
  {
   "cell_type": "code",
   "execution_count": 12,
   "metadata": {},
   "outputs": [],
   "source": [
    "#more random tensors\n",
    "array = tf.random.normal((2,1))\n",
    "mu = tf.random.uniform(shape=array.shape)\n",
    "\n",
    "\n",
    "#convert to pytorch tensors again\n",
    "array_torch = torch.tensor(array.numpy())\n",
    "mu_torch = torch.tensor(mu.numpy())"
   ]
  },
  {
   "cell_type": "code",
   "execution_count": 13,
   "metadata": {},
   "outputs": [
    {
     "data": {
      "text/plain": [
       "tensor(2.3194)"
      ]
     },
     "execution_count": 13,
     "metadata": {},
     "output_type": "execute_result"
    }
   ],
   "source": [
    "# Pytorch test\n",
    "negative_log_bernoulli(array_torch, mu_torch) "
   ]
  },
  {
   "cell_type": "code",
   "execution_count": 14,
   "metadata": {},
   "outputs": [
    {
     "data": {
      "text/plain": [
       "<tf.Tensor: shape=(), dtype=float64, numpy=2.319354580434556>"
      ]
     },
     "execution_count": 14,
     "metadata": {},
     "output_type": "execute_result"
    }
   ],
   "source": [
    "# TensorFlow test\n",
    "tf_negative_log_bernoulli(array, mu , mean=True, clamp=True)"
   ]
  },
  {
   "cell_type": "markdown",
   "metadata": {},
   "source": [
    "### KL Divergence loss"
   ]
  },
  {
   "cell_type": "code",
   "execution_count": 15,
   "metadata": {},
   "outputs": [],
   "source": [
    "#Pytorch\n",
    "def KL(mu, log_sigma):\n",
    "    return 0.5*(-log_sigma + mu**2 + log_sigma.exp()).mean()\n",
    "\n",
    "#TensorFlow\n",
    "def tf_KL(mu, log_sigma):\n",
    "    kl_loss = 0.5 * tf.reduce_mean(( - log_sigma + K.square(mu) + K.exp(log_sigma)))\n",
    "    return kl_loss"
   ]
  },
  {
   "cell_type": "code",
   "execution_count": 16,
   "metadata": {},
   "outputs": [
    {
     "data": {
      "text/plain": [
       "tensor(1.8843)"
      ]
     },
     "execution_count": 16,
     "metadata": {},
     "output_type": "execute_result"
    }
   ],
   "source": [
    "#Pytorch test\n",
    "KL(array_torch, mu_torch)"
   ]
  },
  {
   "cell_type": "code",
   "execution_count": 17,
   "metadata": {},
   "outputs": [
    {
     "data": {
      "text/plain": [
       "<tf.Tensor: shape=(), dtype=float32, numpy=1.8843173>"
      ]
     },
     "execution_count": 17,
     "metadata": {},
     "output_type": "execute_result"
    }
   ],
   "source": [
    "#TensorFlow test\n",
    "tf_KL(array,mu)"
   ]
  },
  {
   "cell_type": "markdown",
   "metadata": {},
   "source": [
    "### Kernel function"
   ]
  },
  {
   "cell_type": "code",
   "execution_count": 18,
   "metadata": {},
   "outputs": [],
   "source": [
    "# Pytorch\n",
    "def kernel(a, b): #N x M, K x M\n",
    "    dist1 = (a**2).sum(dim=1).unsqueeze(1).expand(-1, b.shape[0]) #N x C\n",
    "    dist2 = (b**2).sum(dim=1).unsqueeze(0).expand(a.shape[0], -1) #N x C\n",
    "    dist3 = torch.mm(a, b.transpose(0, 1))\n",
    "    dist = (dist1 + dist2) - (2 * dist3)\n",
    "    return torch.mean(torch.exp(-dist))"
   ]
  },
  {
   "cell_type": "code",
   "execution_count": 19,
   "metadata": {},
   "outputs": [],
   "source": [
    "# TensorFlow\n",
    "def tf_kernel(a,b):\n",
    "    dist1 = tf.expand_dims(tf.math.reduce_sum((a**2), axis=1), axis=1) * tf.ones(shape=(1,b.shape[0]))\n",
    "    dist2 = tf.expand_dims(tf.math.reduce_sum((b**2), axis=1), axis=0)* tf.ones(shape=(a.shape[0], 1))\n",
    "    dist3 = tf.matmul(a, tf.transpose(b, perm=[1, 0]))\n",
    "    dist = (dist1 + dist2) - (2 * dist3)\n",
    "    return tf.reduce_mean(tf.math.exp(-dist))"
   ]
  },
  {
   "cell_type": "code",
   "execution_count": 20,
   "metadata": {},
   "outputs": [],
   "source": [
    "# And more random tensors\n",
    "array_pt_1 = torch.normal(mean=0, std=1, size=(4,1))\n",
    "array_pt_2 = torch.normal(mean=0, std=1, size=(2,1))\n"
   ]
  },
  {
   "cell_type": "code",
   "execution_count": 21,
   "metadata": {},
   "outputs": [],
   "source": [
    "# Convert to tensors\n",
    "array_tf_1, array_tf_2 = [tf.constant(x.numpy()) for x in [array_pt_1, array_pt_2]]"
   ]
  },
  {
   "cell_type": "code",
   "execution_count": 22,
   "metadata": {},
   "outputs": [
    {
     "data": {
      "text/plain": [
       "<tf.Tensor: shape=(), dtype=float32, numpy=0.79150426>"
      ]
     },
     "execution_count": 22,
     "metadata": {},
     "output_type": "execute_result"
    }
   ],
   "source": [
    "# TensorFlow test\n",
    "tf_kernel(array_tf_1,array_tf_2)"
   ]
  },
  {
   "cell_type": "code",
   "execution_count": 23,
   "metadata": {},
   "outputs": [
    {
     "data": {
      "text/plain": [
       "tensor(0.7915)"
      ]
     },
     "execution_count": 23,
     "metadata": {},
     "output_type": "execute_result"
    }
   ],
   "source": [
    "# Pytorch Test\n",
    "kernel(array_pt_1,array_pt_2)"
   ]
  },
  {
   "cell_type": "code",
   "execution_count": null,
   "metadata": {},
   "outputs": [],
   "source": []
  }
 ],
 "metadata": {
  "kernelspec": {
   "display_name": "Python 3",
   "language": "python",
   "name": "python3"
  },
  "language_info": {
   "codemirror_mode": {
    "name": "ipython",
    "version": 3
   },
   "file_extension": ".py",
   "mimetype": "text/x-python",
   "name": "python",
   "nbconvert_exporter": "python",
   "pygments_lexer": "ipython3",
   "version": "3.8.5"
  }
 },
 "nbformat": 4,
 "nbformat_minor": 4
}
