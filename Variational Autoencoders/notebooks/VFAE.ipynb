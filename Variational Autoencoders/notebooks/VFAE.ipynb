{
 "cells": [
  {
   "cell_type": "markdown",
   "metadata": {},
   "source": [
    "\n",
    "\n",
    "# VFAE\n",
    "### Implemented in TensorFlow\n",
    "\n",
    "\n",
    "This notebook addresses the  topic of engineering fair(-er) data representations, devoid of bias from the sensitive features (e.g. age, sex, race).\n",
    "Idea is to generate a representation of the original data, removing discriminatory associations while preserving its original quality.\n",
    "\n",
    "- The implemented architecture is described in https://128.84.21.199/pdf/1511.00830v6.pdf\n",
    "- The dataset used in this notebook is the Adult dataset, retrieved from the UCI ML repository\n",
    "- The sensitive feature is given to be the age of a person"
   ]
  },
  {
   "cell_type": "code",
   "execution_count": 1,
   "metadata": {
    "id": "ny7J5yM-hMUf",
    "outputId": "655f376c-6b99-4116-b747-9d957b43469f"
   },
   "outputs": [],
   "source": [
    "# HIDE\n",
    "import warnings\n",
    "\n",
    "import pandas as pd\n",
    "import numpy as np\n",
    "\n",
    "import matplotlib.pyplot as plt\n",
    "import seaborn as sns\n",
    "\n",
    "from IPython import display\n",
    "\n",
    "import sklearn as sk\n",
    "from sklearn.model_selection import train_test_split\n",
    "from sklearn.preprocessing import StandardScaler, LabelEncoder\n",
    "from sklearn.metrics import accuracy_score, roc_auc_score\n",
    "from sklearn.utils.class_weight import compute_class_weight\n",
    "from sklearn import metrics\n",
    "\n",
    "import tensorflow as tf\n",
    "import tensorflow.keras as ke\n",
    "from tensorflow import keras\n",
    "import tensorflow.keras.backend as K\n",
    "from tensorflow.keras.layers import Input, Dense, Dropout, concatenate\n",
    "from tensorflow.keras.models import Model, Sequential\n",
    "from tensorflow.keras.initializers import VarianceScaling\n",
    "from tensorflow.keras.callbacks import EarlyStopping\n",
    "from tensorflow.keras import layers, regularizers\n",
    "from tensorflow.keras.layers import Input, Dense, Lambda, Layer, Add, Multiply\n"
   ]
  },
  {
   "cell_type": "code",
   "execution_count": 2,
   "metadata": {},
   "outputs": [],
   "source": [
    "np.random.seed(7)\n",
    "warnings.filterwarnings(\"ignore\", category=FutureWarning) \n",
    "%matplotlib inline"
   ]
  },
  {
   "cell_type": "code",
   "execution_count": 3,
   "metadata": {},
   "outputs": [
    {
     "output_type": "stream",
     "name": "stdout",
     "text": [
      "numpy: 1.19.2\nsklearn: 0.23.2\npandas: 1.1.3\nTensorFlow: 2.4.1\nkeras: 2.4.0\n"
     ]
    }
   ],
   "source": [
    "print(f\"numpy: {np.__version__}\")\n",
    "print(f\"sklearn: {sk.__version__}\")\n",
    "print(f\"pandas: {pd.__version__}\")\n",
    "print(f\"TensorFlow: {tf.__version__}\")\n",
    "print(f\"keras: {keras.__version__}\")"
   ]
  },
  {
   "cell_type": "markdown",
   "metadata": {},
   "source": [
    "## Column names and dtypes\n",
    "\n"
   ]
  },
  {
   "cell_type": "code",
   "execution_count": 7,
   "metadata": {},
   "outputs": [],
   "source": [
    "# Columns with categorical variables\n",
    "cat_columns = [\n",
    "        \"Workclass\", \"Education\", \"Country\", \"Relationship\",\n",
    "        \"Martial Status\", \"Occupation\", \"Relationship\",\n",
    "        \"Race\", \"Sex\"\n",
    "    ]\n",
    "\n",
    "# All columns\n",
    "columns = [\"Age\", \"Workclass\", \"fnlwgt\", \"Education\", \"Education-Num\", \"Martial Status\", \\\n",
    "              \"Occupation\", \"Relationship\", \"Race\", \"Sex\", \"Capital Gain\", \"Capital Loss\",\n",
    "                \"Hours per week\", \"Country\", \"Target\"]\n",
    "\n",
    "# Data types\n",
    "types = {0: int, 1: str, 2: int, 3: str, 4: int, 5: str, 6: str, 7: str, 8: str, 9: str, 10: int,\n",
    "                                11: int, 12: int, 13: str, 14: str}"
   ]
  },
  {
   "cell_type": "markdown",
   "metadata": {},
   "source": [
    "\n",
    "## Implementing the P-rule\n",
    "From (Biddle, 2005), lets us verify proportionality in outcomes per sensitive feature value"
   ]
  },
  {
   "cell_type": "code",
   "execution_count": 8,
   "metadata": {},
   "outputs": [],
   "source": [
    "\n",
    "def p_rule(y_pred, x_sensitive, threshold=0.5):\n",
    "    y_z_1 = y_pred[x_sensitive == 1] > threshold if threshold else y_pred[x_sensitive == 1]\n",
    "    y_z_0 = y_pred[x_sensitive == 0] > threshold if threshold else y_pred[x_sensitive == 0]\n",
    "    odds = y_z_1.mean() / y_z_0.mean()\n",
    "    return np.min([odds, 1/odds]) * 100\n"
   ]
  },
  {
   "cell_type": "markdown",
   "metadata": {},
   "source": [
    "## Pre-processing functions for Adult dataset\n",
    "- Source of data : https://archive.ics.uci.edu/ml/datasets/adult"
   ]
  },
  {
   "cell_type": "code",
   "execution_count": 9,
   "metadata": {},
   "outputs": [],
   "source": [
    "# remove observations with missing feature values\n",
    "def remove_missing(X):\n",
    "    m = X.shape[0]\n",
    "    print('Raw Dataset size : ', m)\n",
    "    X.replace('nan', np.nan, inplace=True)\n",
    "    X.dropna(inplace=True)\n",
    "    n = X.shape[0]\n",
    "    print('Size after dropping null values: ', n)\n",
    "    print('Removed ', (m-n), ' observations')\n",
    "\n",
    "    \n",
    "# one-hot encode categorical data\n",
    "def replace_categorical(X):\n",
    "    X_sets = [X.select_dtypes(include=[i]).copy() for i in ['object', 'int']]\n",
    "    X_cat , X_n = X_sets\n",
    "    [print(n, ' set size:' , i.shape) \n",
    "     for (n,i) in zip(['\\nCategorical',\n",
    "                       'Continuous'],\n",
    "                          X_sets)]\n",
    "    \n",
    "    X_cat = pd.get_dummies(X_cat, columns=cat_columns)\n",
    "    return pd.concat([X_n, X_cat], axis=1)\n",
    "\n",
    "\n",
    "# Split features and labels\n",
    "def separate_label(X):\n",
    "    y = X['Target'].copy()\n",
    "    X = X.drop(['Target'], axis=1)\n",
    "    y = LabelEncoder().fit_transform(y)\n",
    "    return X, y\n",
    "\n",
    "\n",
    "# Binarize continuous features with column mean\n",
    "def binarize_features(X):\n",
    "    for i in range(6):\n",
    "        thresh = X.iloc[:, i].mean()\n",
    "        X.iloc[:, i] = np.where(X.iloc[:, i].values > thresh, 1,0)\n",
    "    return X\n",
    "\n",
    "\n",
    "# Load and preprocess\n",
    "def load_adult(binarize=False):\n",
    "    data = pd.read_csv(\n",
    "        \"./VFIB/data/adult/adult.csv\",\n",
    "        names=columns,\n",
    "        sep=r'\\s*,\\s*',\n",
    "        engine='python', skiprows=1,\n",
    "        na_values=\"?\",\n",
    "        dtype=types)\n",
    "    \n",
    "    remove_missing(data)\n",
    "    X, y = separate_label(data)\n",
    "    X = replace_categorical(data)\n",
    "    \n",
    "    if binarize:\n",
    "        binarize_features(X)\n",
    "\n",
    "    return train_test_split(X, y, test_size=0.3, stratify=y, random_state=42)\n",
    "\n"
   ]
  },
  {
   "cell_type": "markdown",
   "metadata": {},
   "source": [
    "## Load Adult Dataset\n",
    "- `binarize` flag to binarize continuous features\n",
    "- Otherwise scaling required"
   ]
  },
  {
   "cell_type": "code",
   "execution_count": 10,
   "metadata": {},
   "outputs": [
    {
     "output_type": "stream",
     "name": "stdout",
     "text": [
      "Raw Dataset size :  48842\nSize after dropping null values:  45222\nRemoved  3620  observations\n\nCategorical  set size: (45222, 9)\nContinuous  set size: (45222, 6)\n"
     ]
    }
   ],
   "source": [
    "data = load_adult(binarize=True)\n",
    "\n",
    "X_train, X_test, y_train, y_test = [i.astype(np.float32) for i in data]"
   ]
  },
  {
   "cell_type": "markdown",
   "metadata": {},
   "source": [
    "## Examine data"
   ]
  },
  {
   "cell_type": "code",
   "execution_count": 8,
   "metadata": {},
   "outputs": [
    {
     "name": "stdout",
     "output_type": "stream",
     "text": [
      "(31655, 110)\n",
      "(13567, 110)\n",
      "(31655,)\n",
      "(13567,)\n"
     ]
    }
   ],
   "source": [
    "_ = [print(i.shape) for i in data]"
   ]
  },
  {
   "cell_type": "code",
   "execution_count": 9,
   "metadata": {},
   "outputs": [
    {
     "data": {
      "text/html": [
       "<div>\n",
       "<style scoped>\n",
       "    .dataframe tbody tr th:only-of-type {\n",
       "        vertical-align: middle;\n",
       "    }\n",
       "\n",
       "    .dataframe tbody tr th {\n",
       "        vertical-align: top;\n",
       "    }\n",
       "\n",
       "    .dataframe thead th {\n",
       "        text-align: right;\n",
       "    }\n",
       "</style>\n",
       "<table border=\"1\" class=\"dataframe\">\n",
       "  <thead>\n",
       "    <tr style=\"text-align: right;\">\n",
       "      <th></th>\n",
       "      <th>Age</th>\n",
       "      <th>fnlwgt</th>\n",
       "      <th>Education-Num</th>\n",
       "      <th>Capital Gain</th>\n",
       "      <th>Capital Loss</th>\n",
       "      <th>Hours per week</th>\n",
       "      <th>Workclass_Federal-gov</th>\n",
       "      <th>Workclass_Local-gov</th>\n",
       "      <th>Workclass_Private</th>\n",
       "      <th>Workclass_Self-emp-inc</th>\n",
       "      <th>...</th>\n",
       "      <th>Relationship_Own-child</th>\n",
       "      <th>Relationship_Unmarried</th>\n",
       "      <th>Relationship_Wife</th>\n",
       "      <th>Race_Amer-Indian-Eskimo</th>\n",
       "      <th>Race_Asian-Pac-Islander</th>\n",
       "      <th>Race_Black</th>\n",
       "      <th>Race_Other</th>\n",
       "      <th>Race_White</th>\n",
       "      <th>Sex_Female</th>\n",
       "      <th>Sex_Male</th>\n",
       "    </tr>\n",
       "  </thead>\n",
       "  <tbody>\n",
       "    <tr>\n",
       "      <th>27314</th>\n",
       "      <td>1.0</td>\n",
       "      <td>0.0</td>\n",
       "      <td>1.0</td>\n",
       "      <td>0.0</td>\n",
       "      <td>0.0</td>\n",
       "      <td>1.0</td>\n",
       "      <td>0.0</td>\n",
       "      <td>0.0</td>\n",
       "      <td>1.0</td>\n",
       "      <td>0.0</td>\n",
       "      <td>...</td>\n",
       "      <td>0.0</td>\n",
       "      <td>0.0</td>\n",
       "      <td>0.0</td>\n",
       "      <td>0.0</td>\n",
       "      <td>0.0</td>\n",
       "      <td>0.0</td>\n",
       "      <td>0.0</td>\n",
       "      <td>1.0</td>\n",
       "      <td>1.0</td>\n",
       "      <td>0.0</td>\n",
       "    </tr>\n",
       "    <tr>\n",
       "      <th>31381</th>\n",
       "      <td>1.0</td>\n",
       "      <td>1.0</td>\n",
       "      <td>1.0</td>\n",
       "      <td>1.0</td>\n",
       "      <td>0.0</td>\n",
       "      <td>0.0</td>\n",
       "      <td>0.0</td>\n",
       "      <td>0.0</td>\n",
       "      <td>0.0</td>\n",
       "      <td>1.0</td>\n",
       "      <td>...</td>\n",
       "      <td>0.0</td>\n",
       "      <td>0.0</td>\n",
       "      <td>0.0</td>\n",
       "      <td>0.0</td>\n",
       "      <td>0.0</td>\n",
       "      <td>0.0</td>\n",
       "      <td>0.0</td>\n",
       "      <td>1.0</td>\n",
       "      <td>0.0</td>\n",
       "      <td>1.0</td>\n",
       "    </tr>\n",
       "    <tr>\n",
       "      <th>30713</th>\n",
       "      <td>0.0</td>\n",
       "      <td>1.0</td>\n",
       "      <td>0.0</td>\n",
       "      <td>0.0</td>\n",
       "      <td>0.0</td>\n",
       "      <td>0.0</td>\n",
       "      <td>0.0</td>\n",
       "      <td>0.0</td>\n",
       "      <td>1.0</td>\n",
       "      <td>0.0</td>\n",
       "      <td>...</td>\n",
       "      <td>1.0</td>\n",
       "      <td>0.0</td>\n",
       "      <td>0.0</td>\n",
       "      <td>0.0</td>\n",
       "      <td>0.0</td>\n",
       "      <td>0.0</td>\n",
       "      <td>0.0</td>\n",
       "      <td>1.0</td>\n",
       "      <td>0.0</td>\n",
       "      <td>1.0</td>\n",
       "    </tr>\n",
       "  </tbody>\n",
       "</table>\n",
       "<p>3 rows × 110 columns</p>\n",
       "</div>"
      ],
      "text/plain": [
       "       Age  fnlwgt  Education-Num  Capital Gain  Capital Loss  Hours per week  \\\n",
       "27314  1.0     0.0            1.0           0.0           0.0             1.0   \n",
       "31381  1.0     1.0            1.0           1.0           0.0             0.0   \n",
       "30713  0.0     1.0            0.0           0.0           0.0             0.0   \n",
       "\n",
       "       Workclass_Federal-gov  Workclass_Local-gov  Workclass_Private  \\\n",
       "27314                    0.0                  0.0                1.0   \n",
       "31381                    0.0                  0.0                0.0   \n",
       "30713                    0.0                  0.0                1.0   \n",
       "\n",
       "       Workclass_Self-emp-inc  ...  Relationship_Own-child  \\\n",
       "27314                     0.0  ...                     0.0   \n",
       "31381                     1.0  ...                     0.0   \n",
       "30713                     0.0  ...                     1.0   \n",
       "\n",
       "       Relationship_Unmarried  Relationship_Wife  Race_Amer-Indian-Eskimo  \\\n",
       "27314                     0.0                0.0                      0.0   \n",
       "31381                     0.0                0.0                      0.0   \n",
       "30713                     0.0                0.0                      0.0   \n",
       "\n",
       "       Race_Asian-Pac-Islander  Race_Black  Race_Other  Race_White  \\\n",
       "27314                      0.0         0.0         0.0         1.0   \n",
       "31381                      0.0         0.0         0.0         1.0   \n",
       "30713                      0.0         0.0         0.0         1.0   \n",
       "\n",
       "       Sex_Female  Sex_Male  \n",
       "27314         1.0       0.0  \n",
       "31381         0.0       1.0  \n",
       "30713         0.0       1.0  \n",
       "\n",
       "[3 rows x 110 columns]"
      ]
     },
     "execution_count": 9,
     "metadata": {},
     "output_type": "execute_result"
    }
   ],
   "source": [
    "X_train.head(3)"
   ]
  },
  {
   "cell_type": "markdown",
   "metadata": {},
   "source": [
    "## Define Encoder Layer\n",
    "- Variational encoder, with 3 outputs: \n",
    "mean (`mu`), log_variance (`sigma`) and latent representation (`z`)  \n",
    "- `Sampling` class used to reparametrize latent representation `z` "
   ]
  },
  {
   "cell_type": "code",
   "execution_count": 10,
   "metadata": {},
   "outputs": [],
   "source": [
    "class Sampling(layers.Layer):\n",
    "    \"\"\"Uses (z_mean, z_log_var) to sample z, the vector encoding of an observation.\"\"\"\n",
    "\n",
    "    def call(self, inputs):\n",
    "        z_mu, z_log_sigma = inputs\n",
    "        batch = tf.shape(z_mu)[0]\n",
    "        dim = tf.shape(z_mu)[1]\n",
    "        epsilon = tf.keras.backend.random_normal(shape=(batch, dim))\n",
    "        return z_mu + tf.exp(0.5 * z_log_sigma) * epsilon\n",
    "\n",
    "\n",
    "class Encoder(keras.layers.Layer):\n",
    "    def __init__(self, input_dim, latent_dim, act):\n",
    "        super(Encoder, self).__init__()\n",
    "        self.dense_1 = Dense(input_dim*2, activation=act, input_shape=(input_dim,))\n",
    "        self.dense_2 = Dense(input_dim/4, activation=act)\n",
    "        self.z_mean =  Dense(latent_dim, name='mu')\n",
    "        self.z_log_sigma = Dense(latent_dim, name='log_sigma')\n",
    "        \n",
    "        \n",
    "    def call(self, x):        \n",
    "        x = self.dense_1(x)\n",
    "        x = self.dense_2(x)\n",
    "        \n",
    "        mean = self.z_mean(x)\n",
    "        log_sigma = self.z_log_sigma(x)\n",
    "        z = Sampling()([mean, log_sigma])\n",
    "        \n",
    "        return mean, log_sigma, z"
   ]
  },
  {
   "cell_type": "markdown",
   "metadata": {},
   "source": [
    "## Examine Encoder output\n",
    "- Each layer has an output shape of `n x l`, where `n` is number of observations and `l` is size of latent representation"
   ]
  },
  {
   "cell_type": "code",
   "execution_count": 11,
   "metadata": {},
   "outputs": [],
   "source": [
    "input_dim = X_train.shape[-1]\n",
    "latent_dim = 2"
   ]
  },
  {
   "cell_type": "code",
   "execution_count": 12,
   "metadata": {},
   "outputs": [],
   "source": [
    "output_encoder = Encoder(input_dim, latent_dim, 'relu')(X_train.values)\n",
    "mu, sigma, z = output_encoder"
   ]
  },
  {
   "cell_type": "code",
   "execution_count": 13,
   "metadata": {},
   "outputs": [
    {
     "name": "stdout",
     "output_type": "stream",
     "text": [
      "mu output shape : (31655, 2)\n",
      "sigma output shape : (31655, 2)\n",
      "z output shape : (31655, 2)\n"
     ]
    }
   ],
   "source": [
    "_ = [print(n, 'output shape :', i.shape) for n,i in zip(['mu', 'sigma', 'z'],output_encoder)]"
   ]
  },
  {
   "cell_type": "markdown",
   "metadata": {},
   "source": [
    "### Define Decoder"
   ]
  },
  {
   "cell_type": "code",
   "execution_count": 14,
   "metadata": {},
   "outputs": [],
   "source": [
    "class Decoder(keras.layers.Layer):\n",
    "    def __init__(self, latent_dim, act):\n",
    "        super(Decoder, self).__init__()\n",
    "        self.dense_1 = Dense(input_dim/4, activation=act, input_shape=(latent_dim,))\n",
    "        self.dense_2 = Dense(input_dim*2, activation=act)\n",
    "        self.output_layer = Dense(input_dim)\n",
    "        \n",
    "    def call(self, x):\n",
    "        x = self.dense_1(x)\n",
    "        x = self.dense_2(x)\n",
    "        return self.output_layer(x)\n",
    "\n"
   ]
  },
  {
   "cell_type": "markdown",
   "metadata": {},
   "source": [
    "### Examine reconstructed output\n",
    "- `n x f`, where n is number of training observations and f is number of features per observation"
   ]
  },
  {
   "cell_type": "code",
   "execution_count": 15,
   "metadata": {},
   "outputs": [
    {
     "data": {
      "text/plain": [
       "(31655, 110)"
      ]
     },
     "execution_count": 15,
     "metadata": {},
     "output_type": "execute_result"
    }
   ],
   "source": [
    "X_train.shape"
   ]
  },
  {
   "cell_type": "code",
   "execution_count": 16,
   "metadata": {},
   "outputs": [
    {
     "data": {
      "text/plain": [
       "(31655, 110)"
      ]
     },
     "execution_count": 16,
     "metadata": {},
     "output_type": "execute_result"
    }
   ],
   "source": [
    "reconstruction = Decoder(latent_dim, 'relu')(z).numpy()\n",
    "reconstruction.shape\n"
   ]
  },
  {
   "cell_type": "markdown",
   "metadata": {},
   "source": [
    "### Define Classifier"
   ]
  },
  {
   "cell_type": "code",
   "execution_count": 17,
   "metadata": {},
   "outputs": [],
   "source": [
    "class Classifier(keras.layers.Layer):\n",
    "    def __init__(self, latent_dim, act, n_sens = 0):\n",
    "        super(Classifier, self).__init__()\n",
    "        self.dense_1 = Dense(64, activation=act, input_shape=(latent_dim+n_sens,))\n",
    "        self.dense_2 = Dense(32, activation=act)\n",
    "        self.dropout =  Dropout(0.2)\n",
    "        self.output_layer = Dense(1)\n",
    "        \n",
    "    def call(self, x):\n",
    "        x = self.dense_1(x)\n",
    "        x = self.dropout(x)\n",
    "        x = self.dense_2(x)\n",
    "        x = self.dropout(x)\n",
    "        return self.output_layer(x)"
   ]
  },
  {
   "cell_type": "markdown",
   "metadata": {},
   "source": [
    "### Examine classifier output\n",
    "- `n x 1`, where n is number of training observations"
   ]
  },
  {
   "cell_type": "code",
   "execution_count": 18,
   "metadata": {},
   "outputs": [
    {
     "data": {
      "text/plain": [
       "<tf.Tensor: shape=(31655, 1), dtype=float32, numpy=\n",
       "array([[ 0.24444401],\n",
       "       [ 0.27762982],\n",
       "       [ 0.02405109],\n",
       "       ...,\n",
       "       [ 0.00250461],\n",
       "       [-0.00986578],\n",
       "       [ 0.00408537]], dtype=float32)>"
      ]
     },
     "execution_count": 18,
     "metadata": {},
     "output_type": "execute_result"
    }
   ],
   "source": [
    "sensitive_attr = X_train.Age.values.reshape(-1,1)\n",
    "n_sens = 1\n",
    "output_predictor = Classifier(latent_dim, 'relu', n_sens=1)(tf.concat([mu, sensitive_attr], axis=1))\n",
    "output_predictor"
   ]
  },
  {
   "cell_type": "markdown",
   "metadata": {},
   "source": [
    "### Define VFAE model\n",
    "- Implemented with 3 different losses:\n",
    "    * `Negative log bernoulli` for classification\n",
    "    * `Kullback Leiber Divergence` constrains latent distribution to original data distribution\n",
    "    * `Maximum mean discrepency` forces model to match moments between marginal posterior distributions of latent variables w.r.t sensitive attribute values; i.e., qφ(z|s = 0) and qφ(z|s = 1)\n",
    "    \n"
   ]
  },
  {
   "cell_type": "code",
   "execution_count": 52,
   "metadata": {},
   "outputs": [],
   "source": [
    "class VFAE(keras.Model):\n",
    "    def __init__(self,\n",
    "                 encoder,\n",
    "                 encoder_z,\n",
    "                 reconstructor_z,\n",
    "                 decoder,\n",
    "                 classifier,\n",
    "                 feature_dim,\n",
    "                 loss_type,\n",
    "                 **kwargs):\n",
    "        \n",
    "        super(VFAE, self).__init__(**kwargs)\n",
    "        \n",
    "        self.eps = tf.constant([10e-25])\n",
    "        self.beta=1.\n",
    "        \n",
    "        self.encoder = encoder\n",
    "        self.encoder_z = encoder_z\n",
    "        self.reconstructor_z = reconstructor_z\n",
    "        self.decoder = decoder\n",
    "        self.classifier = classifier\n",
    "        \n",
    "        self.loss_type = loss_type\n",
    "        \n",
    "        self.total_loss_tracker = keras.metrics.Mean(name=\"total_loss\")\n",
    "        self.prediction_loss_tracker = keras.metrics.Mean(name=\"pred_loss\")\n",
    "        self.kl_loss_tracker = keras.metrics.Mean(name=\"kl_loss\")\n",
    "        self.mmd_loss_tracker = keras.metrics.Mean(name=\"mmd_loss\")\n",
    "        self.reconst_loss_tracker = keras.metrics.Mean(name=\"reconst_loss\")\n",
    "        self.reconst_z_loss_tracker = keras.metrics.Mean(name=\"reconst_z_loss\")\n",
    "\n",
    "    @property\n",
    "    def metrics(self):\n",
    "        return [\n",
    "            self.total_loss_tracker,\n",
    "            self.prediction_loss_tracker,\n",
    "            self.kl_loss_tracker,\n",
    "            self.mmd_loss_tracker,\n",
    "            self.reconst_loss_tracker,\n",
    "            self.reconst_z_loss_tracker\n",
    "        ]\n",
    "    \n",
    "    \n",
    "    @tf.function\n",
    "    def entropy_gaussian(self, mu, sigma, mean=True):\n",
    "        msigma = tf.reshape(sigma, (K.shape(sigma)[0], -1))\n",
    "        return tf.reduce_mean(0.5*msigma)\n",
    "    \n",
    "    @tf.function\n",
    "    def negative_log_gaussian(self, data, mu, sigma, mean=True):\n",
    "        mdata = tf.reshape(data, (K.shape(data)[0], -1))\n",
    "        mmu = tf.reshape(mu, (K.shape(data)[0], -1))\n",
    "        msigma = tf.reshape(sigma, (K.shape(data)[0], -1))\n",
    "\n",
    "        return 0.5 * tf.reduce_mean((mdata-mmu)**2/(K.exp(msigma)+self.eps) + msigma)\n",
    "    \n",
    "    @tf.function\n",
    "    def neg_log_bernoulli(self, true, pred, mean=True, clamp=True, rec=False):\n",
    "        if clamp:\n",
    "            pred = K.clip(pred, -9.5, 9.5)\n",
    "           \n",
    "        batch_size = K.shape(true)[0]\n",
    "        dim = 1 if not rec else 110\n",
    "\n",
    "        mdata = tf.reshape( true, (batch_size,dim) )\n",
    "        mmu = tf.reshape( pred, (batch_size,dim) )\n",
    "\n",
    "        log_prob_1 = tf.math.log_sigmoid(mmu)\n",
    "        log_prob_2 = tf.math.log_sigmoid(-mmu)\n",
    "        return -tf.reduce_mean((mdata*log_prob_1)+(1-mdata)*log_prob_2)\n",
    "    \n",
    "    @tf.function\n",
    "    def KL(self, mu, log_sigma):\n",
    "        kl_loss = 0.5 * tf.reduce_mean(( - log_sigma + K.square(mu) + K.exp(log_sigma)))\n",
    "        return kl_loss\n",
    "    \n",
    "\n",
    "    @tf.function\n",
    "    def mmd_loss(self, X, z):\n",
    "        \n",
    "        def md(t, l):\n",
    "            s_0 = tf.where(t[:,0]==0)\n",
    "            s_1 =tf.where(t[:,0]==1)\n",
    "\n",
    "            z_0 = tf.gather(l, s_0)\n",
    "            z_1 = tf.gather(l, s_1)\n",
    "\n",
    "            z_0 = tf.reshape(z_0, (K.shape(z_0)[0], K.shape(z_0)[-1]))\n",
    "            z_1 = tf.reshape(z_1, (K.shape(z_1)[0], K.shape(z_1)[-1]))\n",
    "            return z_0, z_1\n",
    "        \n",
    "        def kernel(a,b):\n",
    "            dist1 = tf.expand_dims(tf.math.reduce_sum((a**2), axis=1), axis=1) * tf.ones(shape=(1,K.shape(b)[0]))\n",
    "            dist2 = tf.expand_dims(tf.math.reduce_sum((b**2), axis=1), axis=0)* tf.ones(shape=(K.shape(a)[0], 1))\n",
    "            dist3 = tf.matmul(a, tf.transpose(b, perm=[1, 0]))\n",
    "            dist = (dist1 + dist2) - (2 * dist3)\n",
    "            return tf.reduce_mean(tf.math.exp(-dist))\n",
    "        \n",
    "        z_s_0, z_s_1 = md(X, z)\n",
    "        loss = kernel(z_s_0, z_s_0) + kernel(z_s_1, z_s_1) - 2 * kernel(z_s_0, z_s_1)\n",
    "        return loss\n",
    "    \n",
    "    def split_sensitive_X(self, tensor, col, n):\n",
    "        '''takes Xn (2D feature tensor) and returns 2 tensors(sensitive features and normal features)'''\n",
    "        dim = tensor.shape[-1]\n",
    "        pre, sens, post =  tf.split(tensor, (col, n, (dim-(col+n))), axis=1)\n",
    "        return sens, tf.concat([pre, post], axis=1)\n",
    "    \n",
    "\n",
    "    \n",
    "    def call(self, inputs):\n",
    "        X, y = inputs\n",
    "        \n",
    "        sens, _ = self.split_sensitive_X(X, 0, 1)\n",
    "        \n",
    "        y = tf.reshape(y, (-1,1))\n",
    "\n",
    "        z_mean, z_log_sigma, z = self.encoder(X)\n",
    "        \n",
    "        q_z_1_mean, q_z_1_log_sigma, z_1 = self.encoder_z(tf.concat([z,y], axis=1))\n",
    "        \n",
    "        reconst = self.decoder(tf.concat([z, sens], axis=1))\n",
    "        \n",
    "        z_reconst_mean, z_reconst_log_sigma, _ = self.reconstructor_z(tf.concat([z_1, y], axis=1))\n",
    "\n",
    "        preds = self.classifier(z)\n",
    "\n",
    "        \n",
    "        return z_mean, z_log_sigma, z,                      \\\n",
    "                reconst, q_z_1_mean, q_z_1_log_sigma, z_1,   \\\n",
    "                z_reconst_mean, z_reconst_log_sigma, preds\n",
    "    \n",
    "                \n",
    "        \n",
    "        \n",
    "    def train_step(self, data):\n",
    "        X, y = data\n",
    "        with tf.GradientTape() as tape:\n",
    "            \n",
    "            z_mean, z_log_sigma, z,                                       \\\n",
    "            reconst, q_z_1_mean, q_z_1_log_sigma, z_1,                    \\\n",
    "            z_reconst_mean, z_reconst_log_sigma, preds = self.call(data)\n",
    "            \n",
    "    \n",
    "            reconst_loss = self.neg_log_bernoulli(X, reconst, rec=1)\n",
    "        \n",
    "            reconst_z_loss = self.negative_log_gaussian(z, z_reconst_mean, z_reconst_log_sigma)\n",
    "            \n",
    "            classifier_loss = self.neg_log_bernoulli(y, preds)\n",
    "            \n",
    "            kl_loss = self.KL(q_z_1_mean, q_z_1_log_sigma)\n",
    "            \n",
    "            mmd_loss = self.mmd_loss(X, z)\n",
    "            \n",
    "            entropy_z = self.entropy_gaussian(z_mean, z_log_sigma)\n",
    "            \n",
    "            total_loss = reconst_loss + kl_loss + reconst_z_loss - entropy_z + self.beta*classifier_loss\n",
    "\n",
    "                \n",
    "\n",
    "        grads = tape.gradient(total_loss, self.trainable_weights)\n",
    "        self.optimizer.apply_gradients(zip(grads, self.trainable_weights))\n",
    "        self.total_loss_tracker.update_state(total_loss)\n",
    "        self.prediction_loss_tracker.update_state(classifier_loss)\n",
    "        self.kl_loss_tracker.update_state(kl_loss)\n",
    "        self.mmd_loss_tracker.update_state(mmd_loss)\n",
    "        self.reconst_loss_tracker.update_state(reconst_loss)\n",
    "        self.reconst_z_loss_tracker.update_state(reconst_z_loss)\n",
    "        return {\n",
    "            \"loss\": self.total_loss_tracker.result(),\n",
    "            \"classification_loss\": self.prediction_loss_tracker.result(),\n",
    "            \"kl_loss\": self.kl_loss_tracker.result(),\n",
    "            \"mmd_loss\": self.mmd_loss_tracker.result(),\n",
    "            \"reconst_loss\": self.reconst_loss_tracker.result(),\n",
    "            \"reconst_z_loss\": self.reconst_z_loss_tracker.result()\n",
    "        }\n"
   ]
  },
  {
   "cell_type": "code",
   "execution_count": 53,
   "metadata": {},
   "outputs": [
    {
     "data": {
      "text/plain": [
       "(31655, 110)"
      ]
     },
     "execution_count": 53,
     "metadata": {},
     "output_type": "execute_result"
    }
   ],
   "source": [
    "X_train.shape\n"
   ]
  },
  {
   "cell_type": "markdown",
   "metadata": {},
   "source": [
    "### Training loop\n",
    "\n",
    "- We train the model for 100 epochs, 10 times, for each loss typeompare model performance with different losses\n",
    "    * `NLB` + `KLD` + `MMD`\n",
    "    * `NLB` + `KLD`\n",
    "    * `NLB`\n",
    "- Accuracy of models evaluated using `roc` and `accuracy` score\n",
    "- Fairness evaluated using `p-rule`"
   ]
  },
  {
   "cell_type": "code",
   "execution_count": 54,
   "metadata": {},
   "outputs": [],
   "source": [
    "def training_period(epochs, bs):\n",
    "  \n",
    "    model = VFAE(encoding_module,\n",
    "                 z_encoding_module,\n",
    "                 reconstruction_module,\n",
    "                 decoding_module,\n",
    "                 prediction_module,\n",
    "                 input_dim, loss_type)\n",
    "    \n",
    "    model.compile(optimizer=opt)\n",
    "    model.fit(X_train, y_train, batch_size=bs, epochs=epochs)\n"
   ]
  },
  {
   "cell_type": "code",
   "execution_count": 55,
   "metadata": {},
   "outputs": [],
   "source": [
    "\n",
    "latent_dim=50\n",
    "act = 'tanh'\n",
    "opt = tf.keras.optimizers.Adam(lr=0.002)\n",
    "epochs = 100\n",
    "batch_size = 128\n",
    "training_periods = 5\n",
    "loss_type=0"
   ]
  },
  {
   "cell_type": "code",
   "execution_count": 56,
   "metadata": {},
   "outputs": [],
   "source": [
    "encoding_module = Encoder(input_dim, latent_dim, act)\n",
    "z_encoding_module = Encoder(latent_dim+1, latent_dim, act)\n",
    "reconstruction_module = Encoder(latent_dim+1, latent_dim, act)\n",
    "decoding_module = Decoder(latent_dim+1, act)\n",
    "prediction_module = Classifier(latent_dim, act)"
   ]
  },
  {
   "cell_type": "code",
   "execution_count": 57,
   "metadata": {},
   "outputs": [
    {
     "name": "stdout",
     "output_type": "stream",
     "text": [
      "Epoch 1/300\n",
      "248/248 [==============================] - 11s 11ms/step - loss: 1.8139 - classification_loss: 0.4319 - kl_loss: 0.5148 - mmd_loss: 0.0321 - reconst_loss: 0.1987 - reconst_z_loss: 0.4957\n",
      "Epoch 2/300\n",
      "248/248 [==============================] - 3s 11ms/step - loss: 1.5589 - classification_loss: 0.3604 - kl_loss: 0.5186 - mmd_loss: 0.0320 - reconst_loss: 0.1596 - reconst_z_loss: 0.4368\n",
      "Epoch 3/300\n",
      "248/248 [==============================] - 3s 11ms/step - loss: 1.5418 - classification_loss: 0.3518 - kl_loss: 0.5231 - mmd_loss: 0.0320 - reconst_loss: 0.1547 - reconst_z_loss: 0.4270\n",
      "Epoch 4/300\n",
      "248/248 [==============================] - 3s 11ms/step - loss: 1.5398 - classification_loss: 0.3544 - kl_loss: 0.5240 - mmd_loss: 0.0320 - reconst_loss: 0.1496 - reconst_z_loss: 0.4330\n",
      "Epoch 5/300\n",
      "248/248 [==============================] - 3s 11ms/step - loss: 1.5282 - classification_loss: 0.3441 - kl_loss: 0.5238 - mmd_loss: 0.0320 - reconst_loss: 0.1457 - reconst_z_loss: 0.4420\n",
      "Epoch 6/300\n",
      "248/248 [==============================] - 3s 11ms/step - loss: 1.5253 - classification_loss: 0.3437 - kl_loss: 0.5240 - mmd_loss: 0.0320 - reconst_loss: 0.1439 - reconst_z_loss: 0.4503\n",
      "Epoch 7/300\n",
      "248/248 [==============================] - 3s 11ms/step - loss: 1.5296 - classification_loss: 0.3478 - kl_loss: 0.5246 - mmd_loss: 0.0320 - reconst_loss: 0.1426 - reconst_z_loss: 0.4579\n",
      "Epoch 8/300\n",
      "248/248 [==============================] - 3s 11ms/step - loss: 1.5317 - classification_loss: 0.3504 - kl_loss: 0.5250 - mmd_loss: 0.0320 - reconst_loss: 0.1422 - reconst_z_loss: 0.4701\n",
      "Epoch 9/300\n",
      "248/248 [==============================] - 3s 12ms/step - loss: 1.5325 - classification_loss: 0.3528 - kl_loss: 0.5246 - mmd_loss: 0.0319 - reconst_loss: 0.1409 - reconst_z_loss: 0.4825\n",
      "Epoch 10/300\n",
      "248/248 [==============================] - 3s 11ms/step - loss: 1.5242 - classification_loss: 0.3442 - kl_loss: 0.5248 - mmd_loss: 0.0320 - reconst_loss: 0.1400 - reconst_z_loss: 0.4893\n",
      "Epoch 11/300\n",
      "248/248 [==============================] - 3s 11ms/step - loss: 1.5185 - classification_loss: 0.3409 - kl_loss: 0.5248 - mmd_loss: 0.0320 - reconst_loss: 0.1389 - reconst_z_loss: 0.4954\n",
      "Epoch 12/300\n",
      "248/248 [==============================] - 3s 11ms/step - loss: 1.5258 - classification_loss: 0.3481 - kl_loss: 0.5252 - mmd_loss: 0.0319 - reconst_loss: 0.1379 - reconst_z_loss: 0.5007\n",
      "Epoch 13/300\n",
      "248/248 [==============================] - 3s 11ms/step - loss: 1.5265 - classification_loss: 0.3490 - kl_loss: 0.5254 - mmd_loss: 0.0319 - reconst_loss: 0.1368 - reconst_z_loss: 0.5086\n",
      "Epoch 14/300\n",
      "248/248 [==============================] - 3s 11ms/step - loss: 1.5187 - classification_loss: 0.3407 - kl_loss: 0.5257 - mmd_loss: 0.0320 - reconst_loss: 0.1361 - reconst_z_loss: 0.5121\n",
      "Epoch 15/300\n",
      "248/248 [==============================] - 3s 11ms/step - loss: 1.5222 - classification_loss: 0.3458 - kl_loss: 0.5252 - mmd_loss: 0.0320 - reconst_loss: 0.1351 - reconst_z_loss: 0.5205\n",
      "Epoch 16/300\n",
      "248/248 [==============================] - 3s 11ms/step - loss: 1.5183 - classification_loss: 0.3417 - kl_loss: 0.5254 - mmd_loss: 0.0320 - reconst_loss: 0.1341 - reconst_z_loss: 0.5303\n",
      "Epoch 17/300\n",
      "248/248 [==============================] - 3s 11ms/step - loss: 1.5175 - classification_loss: 0.3403 - kl_loss: 0.5255 - mmd_loss: 0.0320 - reconst_loss: 0.1330 - reconst_z_loss: 0.5338\n",
      "Epoch 18/300\n",
      "248/248 [==============================] - 3s 14ms/step - loss: 1.5126 - classification_loss: 0.3389 - kl_loss: 0.5256 - mmd_loss: 0.0320 - reconst_loss: 0.1322 - reconst_z_loss: 0.5393\n",
      "Epoch 19/300\n",
      "248/248 [==============================] - 3s 12ms/step - loss: 1.5132 - classification_loss: 0.3381 - kl_loss: 0.5260 - mmd_loss: 0.0320 - reconst_loss: 0.1315 - reconst_z_loss: 0.5417\n",
      "Epoch 20/300\n",
      "248/248 [==============================] - 3s 11ms/step - loss: 1.5201 - classification_loss: 0.3454 - kl_loss: 0.5262 - mmd_loss: 0.0319 - reconst_loss: 0.1300 - reconst_z_loss: 0.5513\n",
      "Epoch 21/300\n",
      "248/248 [==============================] - 3s 11ms/step - loss: 1.5127 - classification_loss: 0.3399 - kl_loss: 0.5263 - mmd_loss: 0.0320 - reconst_loss: 0.1286 - reconst_z_loss: 0.5566\n",
      "Epoch 22/300\n",
      "248/248 [==============================] - 3s 11ms/step - loss: 1.5139 - classification_loss: 0.3395 - kl_loss: 0.5270 - mmd_loss: 0.0320 - reconst_loss: 0.1276 - reconst_z_loss: 0.5567\n",
      "Epoch 23/300\n",
      "248/248 [==============================] - 3s 11ms/step - loss: 1.5186 - classification_loss: 0.3448 - kl_loss: 0.5267 - mmd_loss: 0.0320 - reconst_loss: 0.1264 - reconst_z_loss: 0.5626\n",
      "Epoch 24/300\n",
      "248/248 [==============================] - 3s 11ms/step - loss: 1.5071 - classification_loss: 0.3342 - kl_loss: 0.5268 - mmd_loss: 0.0320 - reconst_loss: 0.1244 - reconst_z_loss: 0.5651\n",
      "Epoch 25/300\n",
      "248/248 [==============================] - 3s 11ms/step - loss: 1.5077 - classification_loss: 0.3354 - kl_loss: 0.5268 - mmd_loss: 0.0320 - reconst_loss: 0.1234 - reconst_z_loss: 0.5717\n",
      "Epoch 26/300\n",
      "248/248 [==============================] - 3s 12ms/step - loss: 1.5132 - classification_loss: 0.3418 - kl_loss: 0.5268 - mmd_loss: 0.0320 - reconst_loss: 0.1223 - reconst_z_loss: 0.5799\n",
      "Epoch 27/300\n",
      "248/248 [==============================] - 3s 12ms/step - loss: 1.5101 - classification_loss: 0.3381 - kl_loss: 0.5268 - mmd_loss: 0.0320 - reconst_loss: 0.1219 - reconst_z_loss: 0.5827\n",
      "Epoch 28/300\n",
      "248/248 [==============================] - 3s 11ms/step - loss: 1.5123 - classification_loss: 0.3410 - kl_loss: 0.5269 - mmd_loss: 0.0320 - reconst_loss: 0.1212 - reconst_z_loss: 0.5870\n",
      "Epoch 29/300\n",
      "248/248 [==============================] - 3s 11ms/step - loss: 1.5090 - classification_loss: 0.3393 - kl_loss: 0.5270 - mmd_loss: 0.0320 - reconst_loss: 0.1203 - reconst_z_loss: 0.5890\n",
      "Epoch 30/300\n",
      "248/248 [==============================] - 3s 11ms/step - loss: 1.5096 - classification_loss: 0.3383 - kl_loss: 0.5270 - mmd_loss: 0.0320 - reconst_loss: 0.1201 - reconst_z_loss: 0.5886\n",
      "Epoch 31/300\n",
      "248/248 [==============================] - 3s 11ms/step - loss: 1.5016 - classification_loss: 0.3319 - kl_loss: 0.5269 - mmd_loss: 0.0320 - reconst_loss: 0.1196 - reconst_z_loss: 0.5933\n",
      "Epoch 32/300\n",
      "248/248 [==============================] - 3s 11ms/step - loss: 1.4979 - classification_loss: 0.3270 - kl_loss: 0.5268 - mmd_loss: 0.0320 - reconst_loss: 0.1193 - reconst_z_loss: 0.6003\n",
      "Epoch 33/300\n",
      "248/248 [==============================] - 3s 11ms/step - loss: 1.5058 - classification_loss: 0.3340 - kl_loss: 0.5273 - mmd_loss: 0.0319 - reconst_loss: 0.1192 - reconst_z_loss: 0.6048\n",
      "Epoch 34/300\n",
      "248/248 [==============================] - 3s 11ms/step - loss: 1.5022 - classification_loss: 0.3331 - kl_loss: 0.5270 - mmd_loss: 0.0320 - reconst_loss: 0.1190 - reconst_z_loss: 0.6074\n",
      "Epoch 35/300\n",
      "248/248 [==============================] - 3s 11ms/step - loss: 1.5008 - classification_loss: 0.3311 - kl_loss: 0.5269 - mmd_loss: 0.0320 - reconst_loss: 0.1188 - reconst_z_loss: 0.6114\n",
      "Epoch 36/300\n",
      "248/248 [==============================] - 3s 12ms/step - loss: 1.5029 - classification_loss: 0.3340 - kl_loss: 0.5269 - mmd_loss: 0.0320 - reconst_loss: 0.1186 - reconst_z_loss: 0.6154\n",
      "Epoch 37/300\n",
      "248/248 [==============================] - 3s 12ms/step - loss: 1.5065 - classification_loss: 0.3370 - kl_loss: 0.5272 - mmd_loss: 0.0320 - reconst_loss: 0.1184 - reconst_z_loss: 0.6160\n",
      "Epoch 38/300\n",
      "248/248 [==============================] - 3s 13ms/step - loss: 1.5019 - classification_loss: 0.3322 - kl_loss: 0.5267 - mmd_loss: 0.0320 - reconst_loss: 0.1181 - reconst_z_loss: 0.6182\n",
      "Epoch 39/300\n",
      "248/248 [==============================] - 3s 11ms/step - loss: 1.5022 - classification_loss: 0.3308 - kl_loss: 0.5274 - mmd_loss: 0.0320 - reconst_loss: 0.1178 - reconst_z_loss: 0.6164\n",
      "Epoch 40/300\n",
      "248/248 [==============================] - 3s 12ms/step - loss: 1.4981 - classification_loss: 0.3281 - kl_loss: 0.5272 - mmd_loss: 0.0319 - reconst_loss: 0.1178 - reconst_z_loss: 0.6196\n",
      "Epoch 41/300\n",
      "248/248 [==============================] - 3s 12ms/step - loss: 1.5048 - classification_loss: 0.3337 - kl_loss: 0.5271 - mmd_loss: 0.0319 - reconst_loss: 0.1179 - reconst_z_loss: 0.6270\n",
      "Epoch 42/300\n"
     ]
    },
    {
     "name": "stdout",
     "output_type": "stream",
     "text": [
      "248/248 [==============================] - 3s 12ms/step - loss: 1.4995 - classification_loss: 0.3299 - kl_loss: 0.5271 - mmd_loss: 0.0320 - reconst_loss: 0.1175 - reconst_z_loss: 0.6322 0s - loss: 1.4973 - classification_loss: 0.3279 - kl_loss: 0.5271 - mmd_loss: 0.0316 - reconst_los\n",
      "Epoch 43/300\n",
      "248/248 [==============================] - 3s 11ms/step - loss: 1.5054 - classification_loss: 0.3359 - kl_loss: 0.5272 - mmd_loss: 0.0320 - reconst_loss: 0.1175 - reconst_z_loss: 0.6313\n",
      "Epoch 44/300\n",
      "248/248 [==============================] - 3s 11ms/step - loss: 1.4971 - classification_loss: 0.3278 - kl_loss: 0.5274 - mmd_loss: 0.0320 - reconst_loss: 0.1171 - reconst_z_loss: 0.6316\n",
      "Epoch 45/300\n",
      "248/248 [==============================] - 3s 11ms/step - loss: 1.4936 - classification_loss: 0.3240 - kl_loss: 0.5275 - mmd_loss: 0.0319 - reconst_loss: 0.1168 - reconst_z_loss: 0.6361\n",
      "Epoch 46/300\n",
      "248/248 [==============================] - 3s 11ms/step - loss: 1.4989 - classification_loss: 0.3293 - kl_loss: 0.5270 - mmd_loss: 0.0320 - reconst_loss: 0.1173 - reconst_z_loss: 0.6419\n",
      "Epoch 47/300\n",
      "248/248 [==============================] - 3s 12ms/step - loss: 1.4998 - classification_loss: 0.3299 - kl_loss: 0.5273 - mmd_loss: 0.0320 - reconst_loss: 0.1168 - reconst_z_loss: 0.6466\n",
      "Epoch 48/300\n",
      "248/248 [==============================] - 3s 11ms/step - loss: 1.4960 - classification_loss: 0.3275 - kl_loss: 0.5275 - mmd_loss: 0.0320 - reconst_loss: 0.1171 - reconst_z_loss: 0.6463\n",
      "Epoch 49/300\n",
      "248/248 [==============================] - 3s 11ms/step - loss: 1.4933 - classification_loss: 0.3243 - kl_loss: 0.5273 - mmd_loss: 0.0320 - reconst_loss: 0.1166 - reconst_z_loss: 0.6457\n",
      "Epoch 50/300\n",
      "248/248 [==============================] - 3s 11ms/step - loss: 1.4956 - classification_loss: 0.3254 - kl_loss: 0.5271 - mmd_loss: 0.0320 - reconst_loss: 0.1168 - reconst_z_loss: 0.6523\n",
      "Epoch 51/300\n",
      "248/248 [==============================] - 3s 12ms/step - loss: 1.5030 - classification_loss: 0.3326 - kl_loss: 0.5273 - mmd_loss: 0.0320 - reconst_loss: 0.1166 - reconst_z_loss: 0.6564\n",
      "Epoch 52/300\n",
      "248/248 [==============================] - 3s 12ms/step - loss: 1.4900 - classification_loss: 0.3211 - kl_loss: 0.5272 - mmd_loss: 0.0320 - reconst_loss: 0.1166 - reconst_z_loss: 0.6595 0s - loss: 1.4892 - classification_loss: 0.3203 - kl_loss: 0.5272 - mmd_loss: 0.0317 - reconst_loss: 0.1165 \n",
      "Epoch 53/300\n",
      "248/248 [==============================] - 3s 11ms/step - loss: 1.4981 - classification_loss: 0.3294 - kl_loss: 0.5271 - mmd_loss: 0.0320 - reconst_loss: 0.1167 - reconst_z_loss: 0.6655\n",
      "Epoch 54/300\n",
      "248/248 [==============================] - 3s 11ms/step - loss: 1.4952 - classification_loss: 0.3261 - kl_loss: 0.5274 - mmd_loss: 0.0319 - reconst_loss: 0.1161 - reconst_z_loss: 0.6646\n",
      "Epoch 55/300\n",
      "248/248 [==============================] - 3s 11ms/step - loss: 1.4933 - classification_loss: 0.3240 - kl_loss: 0.5272 - mmd_loss: 0.0320 - reconst_loss: 0.1164 - reconst_z_loss: 0.6671\n",
      "Epoch 56/300\n",
      "248/248 [==============================] - 3s 12ms/step - loss: 1.4875 - classification_loss: 0.3192 - kl_loss: 0.5271 - mmd_loss: 0.0320 - reconst_loss: 0.1164 - reconst_z_loss: 0.6659\n",
      "Epoch 57/300\n",
      "248/248 [==============================] - 3s 11ms/step - loss: 1.4873 - classification_loss: 0.3181 - kl_loss: 0.5273 - mmd_loss: 0.0320 - reconst_loss: 0.1162 - reconst_z_loss: 0.6711\n",
      "Epoch 58/300\n",
      "248/248 [==============================] - 3s 12ms/step - loss: 1.4888 - classification_loss: 0.3209 - kl_loss: 0.5271 - mmd_loss: 0.0320 - reconst_loss: 0.1160 - reconst_z_loss: 0.6742\n",
      "Epoch 59/300\n",
      "248/248 [==============================] - 3s 11ms/step - loss: 1.4920 - classification_loss: 0.3222 - kl_loss: 0.5275 - mmd_loss: 0.0320 - reconst_loss: 0.1159 - reconst_z_loss: 0.6768\n",
      "Epoch 60/300\n",
      "248/248 [==============================] - 3s 11ms/step - loss: 1.4886 - classification_loss: 0.3199 - kl_loss: 0.5273 - mmd_loss: 0.0320 - reconst_loss: 0.1159 - reconst_z_loss: 0.6822\n",
      "Epoch 61/300\n",
      "248/248 [==============================] - 3s 12ms/step - loss: 1.4881 - classification_loss: 0.3179 - kl_loss: 0.5273 - mmd_loss: 0.0321 - reconst_loss: 0.1157 - reconst_z_loss: 0.6824\n",
      "Epoch 62/300\n",
      "248/248 [==============================] - 3s 11ms/step - loss: 1.4817 - classification_loss: 0.3128 - kl_loss: 0.5274 - mmd_loss: 0.0320 - reconst_loss: 0.1157 - reconst_z_loss: 0.6808\n",
      "Epoch 63/300\n",
      "248/248 [==============================] - 3s 12ms/step - loss: 1.4810 - classification_loss: 0.3119 - kl_loss: 0.5272 - mmd_loss: 0.0319 - reconst_loss: 0.1159 - reconst_z_loss: 0.6823\n",
      "Epoch 64/300\n",
      "248/248 [==============================] - 3s 11ms/step - loss: 1.4881 - classification_loss: 0.3169 - kl_loss: 0.5272 - mmd_loss: 0.0320 - reconst_loss: 0.1154 - reconst_z_loss: 0.6855\n",
      "Epoch 65/300\n",
      "248/248 [==============================] - 3s 12ms/step - loss: 1.4804 - classification_loss: 0.3121 - kl_loss: 0.5273 - mmd_loss: 0.0319 - reconst_loss: 0.1158 - reconst_z_loss: 0.6897\n",
      "Epoch 66/300\n",
      "248/248 [==============================] - 3s 12ms/step - loss: 1.4857 - classification_loss: 0.3165 - kl_loss: 0.5273 - mmd_loss: 0.0320 - reconst_loss: 0.1157 - reconst_z_loss: 0.6912\n",
      "Epoch 67/300\n",
      "248/248 [==============================] - 3s 12ms/step - loss: 1.4789 - classification_loss: 0.3103 - kl_loss: 0.5270 - mmd_loss: 0.0320 - reconst_loss: 0.1159 - reconst_z_loss: 0.6967\n",
      "Epoch 68/300\n",
      "248/248 [==============================] - 3s 12ms/step - loss: 1.4799 - classification_loss: 0.3109 - kl_loss: 0.5271 - mmd_loss: 0.0320 - reconst_loss: 0.1156 - reconst_z_loss: 0.7004\n",
      "Epoch 69/300\n",
      "248/248 [==============================] - 3s 12ms/step - loss: 1.4851 - classification_loss: 0.3136 - kl_loss: 0.5270 - mmd_loss: 0.0320 - reconst_loss: 0.1160 - reconst_z_loss: 0.7006\n",
      "Epoch 70/300\n",
      "248/248 [==============================] - 3s 11ms/step - loss: 1.4851 - classification_loss: 0.3151 - kl_loss: 0.5268 - mmd_loss: 0.0320 - reconst_loss: 0.1157 - reconst_z_loss: 0.7040\n",
      "Epoch 71/300\n",
      "248/248 [==============================] - 3s 12ms/step - loss: 1.4778 - classification_loss: 0.3086 - kl_loss: 0.5268 - mmd_loss: 0.0320 - reconst_loss: 0.1155 - reconst_z_loss: 0.7025\n",
      "Epoch 72/300\n",
      "248/248 [==============================] - 3s 11ms/step - loss: 1.4754 - classification_loss: 0.3050 - kl_loss: 0.5265 - mmd_loss: 0.0319 - reconst_loss: 0.1156 - reconst_z_loss: 0.7072\n",
      "Epoch 73/300\n",
      "248/248 [==============================] - 3s 12ms/step - loss: 1.4784 - classification_loss: 0.3100 - kl_loss: 0.5267 - mmd_loss: 0.0320 - reconst_loss: 0.1157 - reconst_z_loss: 0.7071\n",
      "Epoch 74/300\n",
      "248/248 [==============================] - 3s 11ms/step - loss: 1.4777 - classification_loss: 0.3075 - kl_loss: 0.5266 - mmd_loss: 0.0320 - reconst_loss: 0.1156 - reconst_z_loss: 0.7087\n",
      "Epoch 75/300\n",
      "248/248 [==============================] - 3s 11ms/step - loss: 1.4787 - classification_loss: 0.3090 - kl_loss: 0.5265 - mmd_loss: 0.0320 - reconst_loss: 0.1155 - reconst_z_loss: 0.7121\n",
      "Epoch 76/300\n",
      "248/248 [==============================] - 3s 11ms/step - loss: 1.4777 - classification_loss: 0.3076 - kl_loss: 0.5266 - mmd_loss: 0.0320 - reconst_loss: 0.1155 - reconst_z_loss: 0.7088\n",
      "Epoch 77/300\n",
      "248/248 [==============================] - 3s 11ms/step - loss: 1.4769 - classification_loss: 0.3077 - kl_loss: 0.5264 - mmd_loss: 0.0320 - reconst_loss: 0.1154 - reconst_z_loss: 0.7104\n",
      "Epoch 78/300\n",
      "248/248 [==============================] - 3s 11ms/step - loss: 1.4775 - classification_loss: 0.3073 - kl_loss: 0.5263 - mmd_loss: 0.0320 - reconst_loss: 0.1156 - reconst_z_loss: 0.7117\n",
      "Epoch 79/300\n",
      "248/248 [==============================] - 3s 11ms/step - loss: 1.4707 - classification_loss: 0.2997 - kl_loss: 0.5262 - mmd_loss: 0.0319 - reconst_loss: 0.1157 - reconst_z_loss: 0.7159\n",
      "Epoch 80/300\n",
      "248/248 [==============================] - 3s 11ms/step - loss: 1.4707 - classification_loss: 0.2984 - kl_loss: 0.5263 - mmd_loss: 0.0320 - reconst_loss: 0.1156 - reconst_z_loss: 0.7190\n",
      "Epoch 81/300\n",
      "248/248 [==============================] - 3s 11ms/step - loss: 1.4764 - classification_loss: 0.3057 - kl_loss: 0.5262 - mmd_loss: 0.0320 - reconst_loss: 0.1156 - reconst_z_loss: 0.7169\n",
      "Epoch 82/300\n"
     ]
    },
    {
     "name": "stdout",
     "output_type": "stream",
     "text": [
      "248/248 [==============================] - 3s 12ms/step - loss: 1.4745 - classification_loss: 0.3039 - kl_loss: 0.5261 - mmd_loss: 0.0320 - reconst_loss: 0.1154 - reconst_z_loss: 0.7136\n",
      "Epoch 83/300\n",
      "248/248 [==============================] - 3s 11ms/step - loss: 1.4690 - classification_loss: 0.2991 - kl_loss: 0.5260 - mmd_loss: 0.0319 - reconst_loss: 0.1157 - reconst_z_loss: 0.7078\n",
      "Epoch 84/300\n",
      "248/248 [==============================] - 3s 11ms/step - loss: 1.4682 - classification_loss: 0.2992 - kl_loss: 0.5259 - mmd_loss: 0.0320 - reconst_loss: 0.1157 - reconst_z_loss: 0.7108\n",
      "Epoch 85/300\n",
      "248/248 [==============================] - 3s 12ms/step - loss: 1.4715 - classification_loss: 0.3007 - kl_loss: 0.5261 - mmd_loss: 0.0320 - reconst_loss: 0.1157 - reconst_z_loss: 0.7101\n",
      "Epoch 86/300\n",
      "248/248 [==============================] - 3s 11ms/step - loss: 1.4644 - classification_loss: 0.2941 - kl_loss: 0.5259 - mmd_loss: 0.0320 - reconst_loss: 0.1158 - reconst_z_loss: 0.7105\n",
      "Epoch 87/300\n",
      "248/248 [==============================] - 3s 11ms/step - loss: 1.4647 - classification_loss: 0.2940 - kl_loss: 0.5260 - mmd_loss: 0.0320 - reconst_loss: 0.1155 - reconst_z_loss: 0.7099\n",
      "Epoch 88/300\n",
      "248/248 [==============================] - 3s 11ms/step - loss: 1.4721 - classification_loss: 0.3016 - kl_loss: 0.5260 - mmd_loss: 0.0320 - reconst_loss: 0.1157 - reconst_z_loss: 0.7053\n",
      "Epoch 89/300\n",
      "248/248 [==============================] - 3s 11ms/step - loss: 1.4663 - classification_loss: 0.2954 - kl_loss: 0.5261 - mmd_loss: 0.0320 - reconst_loss: 0.1156 - reconst_z_loss: 0.7061\n",
      "Epoch 90/300\n",
      "248/248 [==============================] - 3s 12ms/step - loss: 1.4613 - classification_loss: 0.2905 - kl_loss: 0.5260 - mmd_loss: 0.0320 - reconst_loss: 0.1158 - reconst_z_loss: 0.7053\n",
      "Epoch 91/300\n",
      "248/248 [==============================] - 3s 13ms/step - loss: 1.4622 - classification_loss: 0.2925 - kl_loss: 0.5260 - mmd_loss: 0.0320 - reconst_loss: 0.1155 - reconst_z_loss: 0.7099\n",
      "Epoch 92/300\n",
      "248/248 [==============================] - 3s 11ms/step - loss: 1.4589 - classification_loss: 0.2878 - kl_loss: 0.5257 - mmd_loss: 0.0320 - reconst_loss: 0.1154 - reconst_z_loss: 0.7126\n",
      "Epoch 93/300\n",
      "248/248 [==============================] - 3s 11ms/step - loss: 1.4640 - classification_loss: 0.2929 - kl_loss: 0.5258 - mmd_loss: 0.0319 - reconst_loss: 0.1153 - reconst_z_loss: 0.7099\n",
      "Epoch 94/300\n",
      "248/248 [==============================] - 3s 11ms/step - loss: 1.4628 - classification_loss: 0.2909 - kl_loss: 0.5259 - mmd_loss: 0.0320 - reconst_loss: 0.1152 - reconst_z_loss: 0.7063\n",
      "Epoch 95/300\n",
      "248/248 [==============================] - 3s 11ms/step - loss: 1.4586 - classification_loss: 0.2873 - kl_loss: 0.5256 - mmd_loss: 0.0320 - reconst_loss: 0.1157 - reconst_z_loss: 0.7096\n",
      "Epoch 96/300\n",
      "248/248 [==============================] - 3s 11ms/step - loss: 1.4579 - classification_loss: 0.2870 - kl_loss: 0.5257 - mmd_loss: 0.0320 - reconst_loss: 0.1158 - reconst_z_loss: 0.7045\n",
      "Epoch 97/300\n",
      "248/248 [==============================] - 3s 11ms/step - loss: 1.4535 - classification_loss: 0.2832 - kl_loss: 0.5255 - mmd_loss: 0.0321 - reconst_loss: 0.1156 - reconst_z_loss: 0.7044\n",
      "Epoch 98/300\n",
      "248/248 [==============================] - 3s 11ms/step - loss: 1.4554 - classification_loss: 0.2831 - kl_loss: 0.5256 - mmd_loss: 0.0320 - reconst_loss: 0.1157 - reconst_z_loss: 0.7036\n",
      "Epoch 99/300\n",
      "248/248 [==============================] - 3s 11ms/step - loss: 1.4620 - classification_loss: 0.2915 - kl_loss: 0.5254 - mmd_loss: 0.0320 - reconst_loss: 0.1157 - reconst_z_loss: 0.7044\n",
      "Epoch 100/300\n",
      "248/248 [==============================] - 3s 11ms/step - loss: 1.4638 - classification_loss: 0.2903 - kl_loss: 0.5255 - mmd_loss: 0.0320 - reconst_loss: 0.1160 - reconst_z_loss: 0.7077\n",
      "Epoch 101/300\n",
      "248/248 [==============================] - 3s 11ms/step - loss: 1.4569 - classification_loss: 0.2856 - kl_loss: 0.5253 - mmd_loss: 0.0320 - reconst_loss: 0.1157 - reconst_z_loss: 0.7073\n",
      "Epoch 102/300\n",
      "248/248 [==============================] - 3s 11ms/step - loss: 1.4549 - classification_loss: 0.2841 - kl_loss: 0.5252 - mmd_loss: 0.0320 - reconst_loss: 0.1157 - reconst_z_loss: 0.7080\n",
      "Epoch 103/300\n",
      "248/248 [==============================] - 3s 12ms/step - loss: 1.4552 - classification_loss: 0.2840 - kl_loss: 0.5254 - mmd_loss: 0.0320 - reconst_loss: 0.1160 - reconst_z_loss: 0.7039\n",
      "Epoch 104/300\n",
      "248/248 [==============================] - 3s 11ms/step - loss: 1.4479 - classification_loss: 0.2768 - kl_loss: 0.5249 - mmd_loss: 0.0320 - reconst_loss: 0.1160 - reconst_z_loss: 0.7033\n",
      "Epoch 105/300\n",
      "248/248 [==============================] - 3s 11ms/step - loss: 1.4470 - classification_loss: 0.2755 - kl_loss: 0.5251 - mmd_loss: 0.0320 - reconst_loss: 0.1158 - reconst_z_loss: 0.7064\n",
      "Epoch 106/300\n",
      "248/248 [==============================] - 3s 11ms/step - loss: 1.4511 - classification_loss: 0.2782 - kl_loss: 0.5250 - mmd_loss: 0.0319 - reconst_loss: 0.1159 - reconst_z_loss: 0.7068\n",
      "Epoch 107/300\n",
      "248/248 [==============================] - 3s 11ms/step - loss: 1.4508 - classification_loss: 0.2811 - kl_loss: 0.5252 - mmd_loss: 0.0320 - reconst_loss: 0.1159 - reconst_z_loss: 0.7042\n",
      "Epoch 108/300\n",
      "248/248 [==============================] - 3s 11ms/step - loss: 1.4509 - classification_loss: 0.2774 - kl_loss: 0.5252 - mmd_loss: 0.0320 - reconst_loss: 0.1159 - reconst_z_loss: 0.7038\n",
      "Epoch 109/300\n",
      "248/248 [==============================] - 3s 11ms/step - loss: 1.4447 - classification_loss: 0.2756 - kl_loss: 0.5252 - mmd_loss: 0.0319 - reconst_loss: 0.1159 - reconst_z_loss: 0.7023\n",
      "Epoch 110/300\n",
      "248/248 [==============================] - 3s 11ms/step - loss: 1.4494 - classification_loss: 0.2785 - kl_loss: 0.5251 - mmd_loss: 0.0320 - reconst_loss: 0.1160 - reconst_z_loss: 0.7027\n",
      "Epoch 111/300\n",
      "248/248 [==============================] - 3s 11ms/step - loss: 1.4432 - classification_loss: 0.2720 - kl_loss: 0.5251 - mmd_loss: 0.0319 - reconst_loss: 0.1160 - reconst_z_loss: 0.7026\n",
      "Epoch 112/300\n",
      "248/248 [==============================] - 3s 11ms/step - loss: 1.4507 - classification_loss: 0.2774 - kl_loss: 0.5253 - mmd_loss: 0.0320 - reconst_loss: 0.1161 - reconst_z_loss: 0.6990\n",
      "Epoch 113/300\n",
      "248/248 [==============================] - 3s 11ms/step - loss: 1.4428 - classification_loss: 0.2698 - kl_loss: 0.5250 - mmd_loss: 0.0320 - reconst_loss: 0.1158 - reconst_z_loss: 0.6997\n",
      "Epoch 114/300\n",
      "248/248 [==============================] - 3s 12ms/step - loss: 1.4470 - classification_loss: 0.2760 - kl_loss: 0.5248 - mmd_loss: 0.0320 - reconst_loss: 0.1161 - reconst_z_loss: 0.6964\n",
      "Epoch 115/300\n",
      "248/248 [==============================] - 3s 11ms/step - loss: 1.4457 - classification_loss: 0.2736 - kl_loss: 0.5249 - mmd_loss: 0.0320 - reconst_loss: 0.1162 - reconst_z_loss: 0.6947\n",
      "Epoch 116/300\n",
      "248/248 [==============================] - 3s 11ms/step - loss: 1.4476 - classification_loss: 0.2740 - kl_loss: 0.5249 - mmd_loss: 0.0320 - reconst_loss: 0.1161 - reconst_z_loss: 0.6989\n",
      "Epoch 117/300\n",
      "248/248 [==============================] - 3s 11ms/step - loss: 1.4392 - classification_loss: 0.2676 - kl_loss: 0.5248 - mmd_loss: 0.0320 - reconst_loss: 0.1160 - reconst_z_loss: 0.6963\n",
      "Epoch 118/300\n",
      "248/248 [==============================] - 3s 11ms/step - loss: 1.4422 - classification_loss: 0.2714 - kl_loss: 0.5250 - mmd_loss: 0.0320 - reconst_loss: 0.1160 - reconst_z_loss: 0.6945\n",
      "Epoch 119/300\n",
      "248/248 [==============================] - 3s 11ms/step - loss: 1.4399 - classification_loss: 0.2681 - kl_loss: 0.5249 - mmd_loss: 0.0320 - reconst_loss: 0.1160 - reconst_z_loss: 0.6938\n",
      "Epoch 120/300\n",
      "248/248 [==============================] - 3s 11ms/step - loss: 1.4395 - classification_loss: 0.2675 - kl_loss: 0.5250 - mmd_loss: 0.0319 - reconst_loss: 0.1162 - reconst_z_loss: 0.6934\n",
      "Epoch 121/300\n",
      "248/248 [==============================] - 3s 11ms/step - loss: 1.4456 - classification_loss: 0.2727 - kl_loss: 0.5249 - mmd_loss: 0.0320 - reconst_loss: 0.1162 - reconst_z_loss: 0.6904\n",
      "Epoch 122/300\n",
      "248/248 [==============================] - 3s 11ms/step - loss: 1.4386 - classification_loss: 0.2674 - kl_loss: 0.5248 - mmd_loss: 0.0320 - reconst_loss: 0.1157 - reconst_z_loss: 0.6933\n",
      "Epoch 123/300\n"
     ]
    },
    {
     "name": "stdout",
     "output_type": "stream",
     "text": [
      "248/248 [==============================] - 3s 11ms/step - loss: 1.4364 - classification_loss: 0.2645 - kl_loss: 0.5252 - mmd_loss: 0.0320 - reconst_loss: 0.1159 - reconst_z_loss: 0.6935\n",
      "Epoch 124/300\n",
      "248/248 [==============================] - 3s 12ms/step - loss: 1.4375 - classification_loss: 0.2660 - kl_loss: 0.5250 - mmd_loss: 0.0320 - reconst_loss: 0.1161 - reconst_z_loss: 0.6953\n",
      "Epoch 125/300\n",
      "248/248 [==============================] - 3s 11ms/step - loss: 1.4352 - classification_loss: 0.2622 - kl_loss: 0.5250 - mmd_loss: 0.0320 - reconst_loss: 0.1160 - reconst_z_loss: 0.6966\n",
      "Epoch 126/300\n",
      "248/248 [==============================] - 3s 11ms/step - loss: 1.4357 - classification_loss: 0.2631 - kl_loss: 0.5251 - mmd_loss: 0.0320 - reconst_loss: 0.1161 - reconst_z_loss: 0.6941\n",
      "Epoch 127/300\n",
      "248/248 [==============================] - 3s 11ms/step - loss: 1.4371 - classification_loss: 0.2658 - kl_loss: 0.5252 - mmd_loss: 0.0320 - reconst_loss: 0.1161 - reconst_z_loss: 0.6934\n",
      "Epoch 128/300\n",
      "248/248 [==============================] - 3s 11ms/step - loss: 1.4351 - classification_loss: 0.2619 - kl_loss: 0.5249 - mmd_loss: 0.0319 - reconst_loss: 0.1160 - reconst_z_loss: 0.6944\n",
      "Epoch 129/300\n",
      "248/248 [==============================] - 3s 11ms/step - loss: 1.4309 - classification_loss: 0.2592 - kl_loss: 0.5251 - mmd_loss: 0.0319 - reconst_loss: 0.1161 - reconst_z_loss: 0.6912\n",
      "Epoch 130/300\n",
      "248/248 [==============================] - 3s 11ms/step - loss: 1.4318 - classification_loss: 0.2602 - kl_loss: 0.5251 - mmd_loss: 0.0320 - reconst_loss: 0.1161 - reconst_z_loss: 0.6930\n",
      "Epoch 131/300\n",
      "248/248 [==============================] - 3s 11ms/step - loss: 1.4315 - classification_loss: 0.2599 - kl_loss: 0.5254 - mmd_loss: 0.0320 - reconst_loss: 0.1159 - reconst_z_loss: 0.6941\n",
      "Epoch 132/300\n",
      "248/248 [==============================] - 3s 11ms/step - loss: 1.4292 - classification_loss: 0.2582 - kl_loss: 0.5252 - mmd_loss: 0.0320 - reconst_loss: 0.1157 - reconst_z_loss: 0.6916\n",
      "Epoch 133/300\n",
      "248/248 [==============================] - 3s 11ms/step - loss: 1.4337 - classification_loss: 0.2600 - kl_loss: 0.5252 - mmd_loss: 0.0321 - reconst_loss: 0.1160 - reconst_z_loss: 0.6883\n",
      "Epoch 134/300\n",
      "248/248 [==============================] - 3s 11ms/step - loss: 1.4314 - classification_loss: 0.2596 - kl_loss: 0.5255 - mmd_loss: 0.0319 - reconst_loss: 0.1159 - reconst_z_loss: 0.6909\n",
      "Epoch 135/300\n",
      "248/248 [==============================] - 3s 11ms/step - loss: 1.4321 - classification_loss: 0.2603 - kl_loss: 0.5256 - mmd_loss: 0.0320 - reconst_loss: 0.1160 - reconst_z_loss: 0.6944\n",
      "Epoch 136/300\n",
      "248/248 [==============================] - 3s 11ms/step - loss: 1.4267 - classification_loss: 0.2544 - kl_loss: 0.5255 - mmd_loss: 0.0320 - reconst_loss: 0.1157 - reconst_z_loss: 0.6911\n",
      "Epoch 137/300\n",
      "248/248 [==============================] - 3s 11ms/step - loss: 1.4324 - classification_loss: 0.2612 - kl_loss: 0.5255 - mmd_loss: 0.0320 - reconst_loss: 0.1159 - reconst_z_loss: 0.6892\n",
      "Epoch 138/300\n",
      "248/248 [==============================] - 3s 11ms/step - loss: 1.4321 - classification_loss: 0.2599 - kl_loss: 0.5254 - mmd_loss: 0.0320 - reconst_loss: 0.1158 - reconst_z_loss: 0.6922\n",
      "Epoch 139/300\n",
      "248/248 [==============================] - 3s 11ms/step - loss: 1.4272 - classification_loss: 0.2537 - kl_loss: 0.5255 - mmd_loss: 0.0320 - reconst_loss: 0.1159 - reconst_z_loss: 0.6987\n",
      "Epoch 140/300\n",
      "248/248 [==============================] - 3s 11ms/step - loss: 1.4270 - classification_loss: 0.2559 - kl_loss: 0.5256 - mmd_loss: 0.0320 - reconst_loss: 0.1161 - reconst_z_loss: 0.6995\n",
      "Epoch 141/300\n",
      "248/248 [==============================] - 3s 11ms/step - loss: 1.4252 - classification_loss: 0.2525 - kl_loss: 0.5259 - mmd_loss: 0.0320 - reconst_loss: 0.1157 - reconst_z_loss: 0.6920\n",
      "Epoch 142/300\n",
      "248/248 [==============================] - 3s 11ms/step - loss: 1.4258 - classification_loss: 0.2523 - kl_loss: 0.5257 - mmd_loss: 0.0320 - reconst_loss: 0.1159 - reconst_z_loss: 0.6919\n",
      "Epoch 143/300\n",
      "248/248 [==============================] - 3s 11ms/step - loss: 1.4272 - classification_loss: 0.2537 - kl_loss: 0.5260 - mmd_loss: 0.0320 - reconst_loss: 0.1158 - reconst_z_loss: 0.6882\n",
      "Epoch 144/300\n",
      "248/248 [==============================] - 3s 11ms/step - loss: 1.4211 - classification_loss: 0.2501 - kl_loss: 0.5261 - mmd_loss: 0.0320 - reconst_loss: 0.1158 - reconst_z_loss: 0.6877\n",
      "Epoch 145/300\n",
      "248/248 [==============================] - 3s 11ms/step - loss: 1.4232 - classification_loss: 0.2502 - kl_loss: 0.5255 - mmd_loss: 0.0320 - reconst_loss: 0.1161 - reconst_z_loss: 0.6941\n",
      "Epoch 146/300\n",
      "248/248 [==============================] - 3s 11ms/step - loss: 1.4198 - classification_loss: 0.2481 - kl_loss: 0.5257 - mmd_loss: 0.0320 - reconst_loss: 0.1159 - reconst_z_loss: 0.6926\n",
      "Epoch 147/300\n",
      "248/248 [==============================] - 3s 11ms/step - loss: 1.4234 - classification_loss: 0.2513 - kl_loss: 0.5252 - mmd_loss: 0.0320 - reconst_loss: 0.1159 - reconst_z_loss: 0.6897\n",
      "Epoch 148/300\n",
      "248/248 [==============================] - 3s 11ms/step - loss: 1.4155 - classification_loss: 0.2445 - kl_loss: 0.5254 - mmd_loss: 0.0320 - reconst_loss: 0.1159 - reconst_z_loss: 0.6893\n",
      "Epoch 149/300\n",
      "248/248 [==============================] - 3s 11ms/step - loss: 1.4165 - classification_loss: 0.2457 - kl_loss: 0.5255 - mmd_loss: 0.0320 - reconst_loss: 0.1159 - reconst_z_loss: 0.6879\n",
      "Epoch 150/300\n",
      "248/248 [==============================] - 3s 11ms/step - loss: 1.4181 - classification_loss: 0.2456 - kl_loss: 0.5254 - mmd_loss: 0.0319 - reconst_loss: 0.1162 - reconst_z_loss: 0.6902\n",
      "Epoch 151/300\n",
      "248/248 [==============================] - 3s 11ms/step - loss: 1.4246 - classification_loss: 0.2526 - kl_loss: 0.5258 - mmd_loss: 0.0320 - reconst_loss: 0.1160 - reconst_z_loss: 0.6919\n",
      "Epoch 152/300\n",
      "248/248 [==============================] - 3s 11ms/step - loss: 1.4204 - classification_loss: 0.2490 - kl_loss: 0.5257 - mmd_loss: 0.0320 - reconst_loss: 0.1158 - reconst_z_loss: 0.6873\n",
      "Epoch 153/300\n",
      "248/248 [==============================] - 3s 11ms/step - loss: 1.4208 - classification_loss: 0.2496 - kl_loss: 0.5256 - mmd_loss: 0.0320 - reconst_loss: 0.1161 - reconst_z_loss: 0.6899\n",
      "Epoch 154/300\n",
      "248/248 [==============================] - 3s 11ms/step - loss: 1.4230 - classification_loss: 0.2482 - kl_loss: 0.5258 - mmd_loss: 0.0319 - reconst_loss: 0.1158 - reconst_z_loss: 0.6942\n",
      "Epoch 155/300\n",
      "248/248 [==============================] - 3s 11ms/step - loss: 1.4161 - classification_loss: 0.2447 - kl_loss: 0.5257 - mmd_loss: 0.0320 - reconst_loss: 0.1158 - reconst_z_loss: 0.6938 1s - loss: 1.4085 - classification_loss: 0.2393 - kl_loss: 0.525\n",
      "Epoch 156/300\n",
      "248/248 [==============================] - 3s 11ms/step - loss: 1.4178 - classification_loss: 0.2466 - kl_loss: 0.5259 - mmd_loss: 0.0319 - reconst_loss: 0.1157 - reconst_z_loss: 0.6937\n",
      "Epoch 157/300\n",
      "248/248 [==============================] - 3s 11ms/step - loss: 1.4183 - classification_loss: 0.2462 - kl_loss: 0.5260 - mmd_loss: 0.0320 - reconst_loss: 0.1157 - reconst_z_loss: 0.6913\n",
      "Epoch 158/300\n",
      "248/248 [==============================] - 3s 11ms/step - loss: 1.4182 - classification_loss: 0.2445 - kl_loss: 0.5258 - mmd_loss: 0.0320 - reconst_loss: 0.1158 - reconst_z_loss: 0.6918\n",
      "Epoch 159/300\n",
      "248/248 [==============================] - 3s 11ms/step - loss: 1.4151 - classification_loss: 0.2422 - kl_loss: 0.5260 - mmd_loss: 0.0319 - reconst_loss: 0.1158 - reconst_z_loss: 0.6939\n",
      "Epoch 160/300\n",
      "248/248 [==============================] - 3s 11ms/step - loss: 1.4142 - classification_loss: 0.2425 - kl_loss: 0.5260 - mmd_loss: 0.0320 - reconst_loss: 0.1158 - reconst_z_loss: 0.6971\n",
      "Epoch 161/300\n",
      "248/248 [==============================] - 3s 11ms/step - loss: 1.4138 - classification_loss: 0.2416 - kl_loss: 0.5261 - mmd_loss: 0.0320 - reconst_loss: 0.1158 - reconst_z_loss: 0.6999\n",
      "Epoch 162/300\n",
      "248/248 [==============================] - 3s 11ms/step - loss: 1.4107 - classification_loss: 0.2390 - kl_loss: 0.5262 - mmd_loss: 0.0320 - reconst_loss: 0.1158 - reconst_z_loss: 0.6949\n",
      "Epoch 163/300\n"
     ]
    },
    {
     "name": "stdout",
     "output_type": "stream",
     "text": [
      "248/248 [==============================] - 3s 11ms/step - loss: 1.4161 - classification_loss: 0.2453 - kl_loss: 0.5262 - mmd_loss: 0.0320 - reconst_loss: 0.1157 - reconst_z_loss: 0.6939\n",
      "Epoch 164/300\n",
      "248/248 [==============================] - 3s 11ms/step - loss: 1.4170 - classification_loss: 0.2444 - kl_loss: 0.5262 - mmd_loss: 0.0320 - reconst_loss: 0.1158 - reconst_z_loss: 0.6965\n",
      "Epoch 165/300\n",
      "248/248 [==============================] - 3s 11ms/step - loss: 1.4101 - classification_loss: 0.2388 - kl_loss: 0.5261 - mmd_loss: 0.0319 - reconst_loss: 0.1157 - reconst_z_loss: 0.6943\n",
      "Epoch 166/300\n",
      "248/248 [==============================] - 3s 11ms/step - loss: 1.4182 - classification_loss: 0.2460 - kl_loss: 0.5264 - mmd_loss: 0.0320 - reconst_loss: 0.1158 - reconst_z_loss: 0.6914\n",
      "Epoch 167/300\n",
      "248/248 [==============================] - 3s 11ms/step - loss: 1.4138 - classification_loss: 0.2414 - kl_loss: 0.5265 - mmd_loss: 0.0319 - reconst_loss: 0.1155 - reconst_z_loss: 0.6921\n",
      "Epoch 168/300\n",
      "248/248 [==============================] - 3s 11ms/step - loss: 1.4144 - classification_loss: 0.2413 - kl_loss: 0.5261 - mmd_loss: 0.0320 - reconst_loss: 0.1157 - reconst_z_loss: 0.6964\n",
      "Epoch 169/300\n",
      "248/248 [==============================] - 3s 11ms/step - loss: 1.4160 - classification_loss: 0.2438 - kl_loss: 0.5265 - mmd_loss: 0.0320 - reconst_loss: 0.1157 - reconst_z_loss: 0.6953\n",
      "Epoch 170/300\n",
      "248/248 [==============================] - 3s 11ms/step - loss: 1.4145 - classification_loss: 0.2424 - kl_loss: 0.5264 - mmd_loss: 0.0320 - reconst_loss: 0.1157 - reconst_z_loss: 0.6938\n",
      "Epoch 171/300\n",
      "248/248 [==============================] - 3s 11ms/step - loss: 1.4103 - classification_loss: 0.2381 - kl_loss: 0.5266 - mmd_loss: 0.0319 - reconst_loss: 0.1160 - reconst_z_loss: 0.6944\n",
      "Epoch 172/300\n",
      "248/248 [==============================] - 3s 11ms/step - loss: 1.4147 - classification_loss: 0.2435 - kl_loss: 0.5264 - mmd_loss: 0.0320 - reconst_loss: 0.1157 - reconst_z_loss: 0.6947\n",
      "Epoch 173/300\n",
      "248/248 [==============================] - 3s 11ms/step - loss: 1.4079 - classification_loss: 0.2363 - kl_loss: 0.5266 - mmd_loss: 0.0320 - reconst_loss: 0.1159 - reconst_z_loss: 0.6978\n",
      "Epoch 174/300\n",
      "248/248 [==============================] - 3s 11ms/step - loss: 1.4100 - classification_loss: 0.2386 - kl_loss: 0.5266 - mmd_loss: 0.0320 - reconst_loss: 0.1157 - reconst_z_loss: 0.6949\n",
      "Epoch 175/300\n",
      "248/248 [==============================] - 3s 11ms/step - loss: 1.4119 - classification_loss: 0.2409 - kl_loss: 0.5266 - mmd_loss: 0.0321 - reconst_loss: 0.1156 - reconst_z_loss: 0.6925\n",
      "Epoch 176/300\n",
      "248/248 [==============================] - 3s 11ms/step - loss: 1.4050 - classification_loss: 0.2340 - kl_loss: 0.5265 - mmd_loss: 0.0319 - reconst_loss: 0.1159 - reconst_z_loss: 0.6941\n",
      "Epoch 177/300\n",
      "248/248 [==============================] - 3s 11ms/step - loss: 1.4038 - classification_loss: 0.2322 - kl_loss: 0.5265 - mmd_loss: 0.0320 - reconst_loss: 0.1160 - reconst_z_loss: 0.6941\n",
      "Epoch 178/300\n",
      "248/248 [==============================] - 3s 11ms/step - loss: 1.4104 - classification_loss: 0.2380 - kl_loss: 0.5265 - mmd_loss: 0.0319 - reconst_loss: 0.1158 - reconst_z_loss: 0.6972\n",
      "Epoch 179/300\n",
      "248/248 [==============================] - 3s 11ms/step - loss: 1.4127 - classification_loss: 0.2403 - kl_loss: 0.5266 - mmd_loss: 0.0320 - reconst_loss: 0.1157 - reconst_z_loss: 0.6977\n",
      "Epoch 180/300\n",
      "248/248 [==============================] - 3s 11ms/step - loss: 1.4066 - classification_loss: 0.2356 - kl_loss: 0.5266 - mmd_loss: 0.0320 - reconst_loss: 0.1157 - reconst_z_loss: 0.6970\n",
      "Epoch 181/300\n",
      "248/248 [==============================] - 3s 11ms/step - loss: 1.4081 - classification_loss: 0.2362 - kl_loss: 0.5265 - mmd_loss: 0.0320 - reconst_loss: 0.1159 - reconst_z_loss: 0.6963\n",
      "Epoch 182/300\n",
      "248/248 [==============================] - 3s 13ms/step - loss: 1.4121 - classification_loss: 0.2403 - kl_loss: 0.5265 - mmd_loss: 0.0320 - reconst_loss: 0.1156 - reconst_z_loss: 0.7006\n",
      "Epoch 183/300\n",
      "248/248 [==============================] - 3s 12ms/step - loss: 1.4058 - classification_loss: 0.2338 - kl_loss: 0.5267 - mmd_loss: 0.0320 - reconst_loss: 0.1157 - reconst_z_loss: 0.6995\n",
      "Epoch 184/300\n",
      "248/248 [==============================] - 3s 11ms/step - loss: 1.4088 - classification_loss: 0.2353 - kl_loss: 0.5266 - mmd_loss: 0.0320 - reconst_loss: 0.1157 - reconst_z_loss: 0.6956\n",
      "Epoch 185/300\n",
      "248/248 [==============================] - 3s 11ms/step - loss: 1.4058 - classification_loss: 0.2351 - kl_loss: 0.5272 - mmd_loss: 0.0319 - reconst_loss: 0.1156 - reconst_z_loss: 0.6922\n",
      "Epoch 186/300\n",
      "248/248 [==============================] - 3s 11ms/step - loss: 1.4122 - classification_loss: 0.2408 - kl_loss: 0.5272 - mmd_loss: 0.0319 - reconst_loss: 0.1156 - reconst_z_loss: 0.6954 1s - loss: 1.4159 - classification_loss: 0.2450 - kl_loss: 0.5271 - mmd_loss: \n",
      "Epoch 187/300\n",
      "248/248 [==============================] - 3s 11ms/step - loss: 1.4088 - classification_loss: 0.2359 - kl_loss: 0.5271 - mmd_loss: 0.0320 - reconst_loss: 0.1156 - reconst_z_loss: 0.6939\n",
      "Epoch 188/300\n",
      "248/248 [==============================] - 3s 11ms/step - loss: 1.4115 - classification_loss: 0.2389 - kl_loss: 0.5269 - mmd_loss: 0.0320 - reconst_loss: 0.1156 - reconst_z_loss: 0.6893\n",
      "Epoch 189/300\n",
      "248/248 [==============================] - 3s 11ms/step - loss: 1.4057 - classification_loss: 0.2321 - kl_loss: 0.5273 - mmd_loss: 0.0320 - reconst_loss: 0.1157 - reconst_z_loss: 0.6894\n",
      "Epoch 190/300\n",
      "248/248 [==============================] - 3s 11ms/step - loss: 1.4059 - classification_loss: 0.2336 - kl_loss: 0.5272 - mmd_loss: 0.0320 - reconst_loss: 0.1158 - reconst_z_loss: 0.6969\n",
      "Epoch 191/300\n",
      "248/248 [==============================] - 3s 11ms/step - loss: 1.4058 - classification_loss: 0.2343 - kl_loss: 0.5267 - mmd_loss: 0.0320 - reconst_loss: 0.1158 - reconst_z_loss: 0.7008\n",
      "Epoch 192/300\n",
      "248/248 [==============================] - 3s 11ms/step - loss: 1.4089 - classification_loss: 0.2363 - kl_loss: 0.5268 - mmd_loss: 0.0320 - reconst_loss: 0.1156 - reconst_z_loss: 0.7022\n",
      "Epoch 193/300\n",
      "248/248 [==============================] - 3s 11ms/step - loss: 1.4104 - classification_loss: 0.2365 - kl_loss: 0.5270 - mmd_loss: 0.0320 - reconst_loss: 0.1156 - reconst_z_loss: 0.7020\n",
      "Epoch 194/300\n",
      "248/248 [==============================] - 3s 11ms/step - loss: 1.4003 - classification_loss: 0.2289 - kl_loss: 0.5270 - mmd_loss: 0.0319 - reconst_loss: 0.1158 - reconst_z_loss: 0.7011\n",
      "Epoch 195/300\n",
      "248/248 [==============================] - 3s 11ms/step - loss: 1.4085 - classification_loss: 0.2365 - kl_loss: 0.5270 - mmd_loss: 0.0320 - reconst_loss: 0.1157 - reconst_z_loss: 0.7024\n",
      "Epoch 196/300\n",
      "248/248 [==============================] - 3s 11ms/step - loss: 1.3977 - classification_loss: 0.2261 - kl_loss: 0.5271 - mmd_loss: 0.0320 - reconst_loss: 0.1156 - reconst_z_loss: 0.7031\n",
      "Epoch 197/300\n",
      "248/248 [==============================] - 3s 11ms/step - loss: 1.4007 - classification_loss: 0.2296 - kl_loss: 0.5271 - mmd_loss: 0.0321 - reconst_loss: 0.1159 - reconst_z_loss: 0.7061\n",
      "Epoch 198/300\n",
      "248/248 [==============================] - 3s 11ms/step - loss: 1.4014 - classification_loss: 0.2296 - kl_loss: 0.5271 - mmd_loss: 0.0320 - reconst_loss: 0.1157 - reconst_z_loss: 0.7059\n",
      "Epoch 199/300\n",
      "248/248 [==============================] - 3s 11ms/step - loss: 1.4039 - classification_loss: 0.2320 - kl_loss: 0.5273 - mmd_loss: 0.0320 - reconst_loss: 0.1156 - reconst_z_loss: 0.7015\n",
      "Epoch 200/300\n",
      "248/248 [==============================] - 3s 11ms/step - loss: 1.4028 - classification_loss: 0.2317 - kl_loss: 0.5271 - mmd_loss: 0.0320 - reconst_loss: 0.1161 - reconst_z_loss: 0.7021\n",
      "Epoch 201/300\n",
      "248/248 [==============================] - 3s 11ms/step - loss: 1.3979 - classification_loss: 0.2259 - kl_loss: 0.5274 - mmd_loss: 0.0320 - reconst_loss: 0.1160 - reconst_z_loss: 0.7012\n",
      "Epoch 202/300\n",
      "248/248 [==============================] - 3s 11ms/step - loss: 1.4008 - classification_loss: 0.2297 - kl_loss: 0.5273 - mmd_loss: 0.0320 - reconst_loss: 0.1160 - reconst_z_loss: 0.7010\n",
      "Epoch 203/300\n"
     ]
    },
    {
     "name": "stdout",
     "output_type": "stream",
     "text": [
      "248/248 [==============================] - 3s 11ms/step - loss: 1.3973 - classification_loss: 0.2252 - kl_loss: 0.5273 - mmd_loss: 0.0320 - reconst_loss: 0.1160 - reconst_z_loss: 0.7043\n",
      "Epoch 204/300\n",
      "248/248 [==============================] - 3s 11ms/step - loss: 1.4058 - classification_loss: 0.2350 - kl_loss: 0.5273 - mmd_loss: 0.0320 - reconst_loss: 0.1158 - reconst_z_loss: 0.7085\n",
      "Epoch 205/300\n",
      "248/248 [==============================] - 3s 11ms/step - loss: 1.3992 - classification_loss: 0.2279 - kl_loss: 0.5274 - mmd_loss: 0.0320 - reconst_loss: 0.1158 - reconst_z_loss: 0.7099\n",
      "Epoch 206/300\n",
      "248/248 [==============================] - 3s 11ms/step - loss: 1.4057 - classification_loss: 0.2350 - kl_loss: 0.5270 - mmd_loss: 0.0319 - reconst_loss: 0.1161 - reconst_z_loss: 0.7151\n",
      "Epoch 207/300\n",
      "248/248 [==============================] - 3s 11ms/step - loss: 1.4029 - classification_loss: 0.2301 - kl_loss: 0.5274 - mmd_loss: 0.0320 - reconst_loss: 0.1160 - reconst_z_loss: 0.7184\n",
      "Epoch 208/300\n",
      "248/248 [==============================] - 3s 11ms/step - loss: 1.4036 - classification_loss: 0.2323 - kl_loss: 0.5271 - mmd_loss: 0.0320 - reconst_loss: 0.1162 - reconst_z_loss: 0.7146\n",
      "Epoch 209/300\n",
      "248/248 [==============================] - 3s 11ms/step - loss: 1.4024 - classification_loss: 0.2313 - kl_loss: 0.5270 - mmd_loss: 0.0319 - reconst_loss: 0.1161 - reconst_z_loss: 0.7190\n",
      "Epoch 210/300\n",
      "248/248 [==============================] - 3s 11ms/step - loss: 1.4013 - classification_loss: 0.2287 - kl_loss: 0.5266 - mmd_loss: 0.0320 - reconst_loss: 0.1162 - reconst_z_loss: 0.7181\n",
      "Epoch 211/300\n",
      "248/248 [==============================] - 3s 11ms/step - loss: 1.4044 - classification_loss: 0.2316 - kl_loss: 0.5271 - mmd_loss: 0.0320 - reconst_loss: 0.1159 - reconst_z_loss: 0.7180\n",
      "Epoch 212/300\n",
      "248/248 [==============================] - 3s 11ms/step - loss: 1.4019 - classification_loss: 0.2287 - kl_loss: 0.5272 - mmd_loss: 0.0320 - reconst_loss: 0.1159 - reconst_z_loss: 0.7190\n",
      "Epoch 213/300\n",
      "248/248 [==============================] - 3s 11ms/step - loss: 1.3999 - classification_loss: 0.2283 - kl_loss: 0.5270 - mmd_loss: 0.0320 - reconst_loss: 0.1160 - reconst_z_loss: 0.7247\n",
      "Epoch 214/300\n",
      "248/248 [==============================] - 3s 11ms/step - loss: 1.3999 - classification_loss: 0.2270 - kl_loss: 0.5271 - mmd_loss: 0.0319 - reconst_loss: 0.1158 - reconst_z_loss: 0.7273\n",
      "Epoch 215/300\n",
      "248/248 [==============================] - 3s 11ms/step - loss: 1.4018 - classification_loss: 0.2301 - kl_loss: 0.5270 - mmd_loss: 0.0320 - reconst_loss: 0.1157 - reconst_z_loss: 0.7286\n",
      "Epoch 216/300\n",
      "248/248 [==============================] - 3s 11ms/step - loss: 1.3997 - classification_loss: 0.2281 - kl_loss: 0.5274 - mmd_loss: 0.0320 - reconst_loss: 0.1163 - reconst_z_loss: 0.7253\n",
      "Epoch 217/300\n",
      "248/248 [==============================] - 3s 11ms/step - loss: 1.3983 - classification_loss: 0.2279 - kl_loss: 0.5274 - mmd_loss: 0.0320 - reconst_loss: 0.1160 - reconst_z_loss: 0.7267\n",
      "Epoch 218/300\n",
      "248/248 [==============================] - 3s 11ms/step - loss: 1.3953 - classification_loss: 0.2253 - kl_loss: 0.5275 - mmd_loss: 0.0320 - reconst_loss: 0.1163 - reconst_z_loss: 0.7310\n",
      "Epoch 219/300\n",
      "248/248 [==============================] - 3s 11ms/step - loss: 1.3952 - classification_loss: 0.2241 - kl_loss: 0.5274 - mmd_loss: 0.0320 - reconst_loss: 0.1158 - reconst_z_loss: 0.7303\n",
      "Epoch 220/300\n",
      "248/248 [==============================] - 3s 11ms/step - loss: 1.4000 - classification_loss: 0.2285 - kl_loss: 0.5273 - mmd_loss: 0.0319 - reconst_loss: 0.1159 - reconst_z_loss: 0.7306\n",
      "Epoch 221/300\n",
      "248/248 [==============================] - 3s 11ms/step - loss: 1.3947 - classification_loss: 0.2227 - kl_loss: 0.5273 - mmd_loss: 0.0320 - reconst_loss: 0.1157 - reconst_z_loss: 0.7327\n",
      "Epoch 222/300\n",
      "248/248 [==============================] - 3s 11ms/step - loss: 1.3997 - classification_loss: 0.2276 - kl_loss: 0.5273 - mmd_loss: 0.0320 - reconst_loss: 0.1160 - reconst_z_loss: 0.7333\n",
      "Epoch 223/300\n",
      "248/248 [==============================] - 3s 11ms/step - loss: 1.3960 - classification_loss: 0.2242 - kl_loss: 0.5273 - mmd_loss: 0.0320 - reconst_loss: 0.1161 - reconst_z_loss: 0.7330\n",
      "Epoch 224/300\n",
      "248/248 [==============================] - 3s 11ms/step - loss: 1.4013 - classification_loss: 0.2315 - kl_loss: 0.5274 - mmd_loss: 0.0320 - reconst_loss: 0.1162 - reconst_z_loss: 0.7335\n",
      "Epoch 225/300\n",
      "248/248 [==============================] - 3s 11ms/step - loss: 1.4044 - classification_loss: 0.2314 - kl_loss: 0.5274 - mmd_loss: 0.0320 - reconst_loss: 0.1160 - reconst_z_loss: 0.7305\n",
      "Epoch 226/300\n",
      "248/248 [==============================] - 3s 11ms/step - loss: 1.3983 - classification_loss: 0.2257 - kl_loss: 0.5274 - mmd_loss: 0.0320 - reconst_loss: 0.1159 - reconst_z_loss: 0.7307\n",
      "Epoch 227/300\n",
      "248/248 [==============================] - 3s 11ms/step - loss: 1.3965 - classification_loss: 0.2238 - kl_loss: 0.5272 - mmd_loss: 0.0320 - reconst_loss: 0.1162 - reconst_z_loss: 0.7307\n",
      "Epoch 228/300\n",
      "248/248 [==============================] - 3s 11ms/step - loss: 1.3946 - classification_loss: 0.2223 - kl_loss: 0.5270 - mmd_loss: 0.0320 - reconst_loss: 0.1161 - reconst_z_loss: 0.7349\n",
      "Epoch 229/300\n",
      "248/248 [==============================] - 3s 11ms/step - loss: 1.3929 - classification_loss: 0.2201 - kl_loss: 0.5269 - mmd_loss: 0.0320 - reconst_loss: 0.1163 - reconst_z_loss: 0.7379\n",
      "Epoch 230/300\n",
      "248/248 [==============================] - 3s 11ms/step - loss: 1.3977 - classification_loss: 0.2257 - kl_loss: 0.5273 - mmd_loss: 0.0320 - reconst_loss: 0.1162 - reconst_z_loss: 0.7370\n",
      "Epoch 231/300\n",
      "248/248 [==============================] - 3s 11ms/step - loss: 1.3995 - classification_loss: 0.2283 - kl_loss: 0.5273 - mmd_loss: 0.0319 - reconst_loss: 0.1160 - reconst_z_loss: 0.7357\n",
      "Epoch 232/300\n",
      "248/248 [==============================] - 3s 11ms/step - loss: 1.3908 - classification_loss: 0.2203 - kl_loss: 0.5272 - mmd_loss: 0.0320 - reconst_loss: 0.1160 - reconst_z_loss: 0.7435\n",
      "Epoch 233/300\n",
      "248/248 [==============================] - 3s 11ms/step - loss: 1.3948 - classification_loss: 0.2230 - kl_loss: 0.5271 - mmd_loss: 0.0320 - reconst_loss: 0.1160 - reconst_z_loss: 0.7433\n",
      "Epoch 234/300\n",
      "248/248 [==============================] - 3s 11ms/step - loss: 1.3992 - classification_loss: 0.2270 - kl_loss: 0.5271 - mmd_loss: 0.0320 - reconst_loss: 0.1164 - reconst_z_loss: 0.7445\n",
      "Epoch 235/300\n",
      "248/248 [==============================] - 3s 11ms/step - loss: 1.4000 - classification_loss: 0.2274 - kl_loss: 0.5268 - mmd_loss: 0.0320 - reconst_loss: 0.1164 - reconst_z_loss: 0.7474\n",
      "Epoch 236/300\n",
      "248/248 [==============================] - 3s 11ms/step - loss: 1.3983 - classification_loss: 0.2257 - kl_loss: 0.5270 - mmd_loss: 0.0320 - reconst_loss: 0.1161 - reconst_z_loss: 0.7464\n",
      "Epoch 237/300\n",
      "248/248 [==============================] - 3s 11ms/step - loss: 1.3956 - classification_loss: 0.2247 - kl_loss: 0.5268 - mmd_loss: 0.0319 - reconst_loss: 0.1162 - reconst_z_loss: 0.7482\n",
      "Epoch 238/300\n",
      "248/248 [==============================] - 3s 11ms/step - loss: 1.3904 - classification_loss: 0.2202 - kl_loss: 0.5270 - mmd_loss: 0.0320 - reconst_loss: 0.1161 - reconst_z_loss: 0.7484\n",
      "Epoch 239/300\n",
      "248/248 [==============================] - 3s 11ms/step - loss: 1.3926 - classification_loss: 0.2216 - kl_loss: 0.5271 - mmd_loss: 0.0320 - reconst_loss: 0.1161 - reconst_z_loss: 0.7485\n",
      "Epoch 240/300\n",
      "248/248 [==============================] - 3s 11ms/step - loss: 1.3932 - classification_loss: 0.2216 - kl_loss: 0.5272 - mmd_loss: 0.0319 - reconst_loss: 0.1159 - reconst_z_loss: 0.7416\n",
      "Epoch 241/300\n",
      "248/248 [==============================] - 3s 11ms/step - loss: 1.4016 - classification_loss: 0.2285 - kl_loss: 0.5270 - mmd_loss: 0.0320 - reconst_loss: 0.1159 - reconst_z_loss: 0.7365\n",
      "Epoch 242/300\n",
      "248/248 [==============================] - 3s 11ms/step - loss: 1.4001 - classification_loss: 0.2277 - kl_loss: 0.5272 - mmd_loss: 0.0320 - reconst_loss: 0.1159 - reconst_z_loss: 0.7377\n",
      "Epoch 243/300\n",
      "248/248 [==============================] - 3s 11ms/step - loss: 1.3995 - classification_loss: 0.2281 - kl_loss: 0.5270 - mmd_loss: 0.0319 - reconst_loss: 0.1159 - reconst_z_loss: 0.7467\n",
      "Epoch 244/300\n"
     ]
    },
    {
     "name": "stdout",
     "output_type": "stream",
     "text": [
      "248/248 [==============================] - 3s 11ms/step - loss: 1.3880 - classification_loss: 0.2166 - kl_loss: 0.5269 - mmd_loss: 0.0320 - reconst_loss: 0.1161 - reconst_z_loss: 0.7522\n",
      "Epoch 245/300\n",
      "248/248 [==============================] - 3s 11ms/step - loss: 1.3920 - classification_loss: 0.2203 - kl_loss: 0.5268 - mmd_loss: 0.0320 - reconst_loss: 0.1162 - reconst_z_loss: 0.7521\n",
      "Epoch 246/300\n",
      "248/248 [==============================] - 3s 11ms/step - loss: 1.3978 - classification_loss: 0.2268 - kl_loss: 0.5268 - mmd_loss: 0.0319 - reconst_loss: 0.1160 - reconst_z_loss: 0.7516\n",
      "Epoch 247/300\n",
      "248/248 [==============================] - 3s 11ms/step - loss: 1.3952 - classification_loss: 0.2238 - kl_loss: 0.5269 - mmd_loss: 0.0320 - reconst_loss: 0.1160 - reconst_z_loss: 0.7523\n",
      "Epoch 248/300\n",
      "248/248 [==============================] - 3s 11ms/step - loss: 1.3968 - classification_loss: 0.2246 - kl_loss: 0.5271 - mmd_loss: 0.0320 - reconst_loss: 0.1160 - reconst_z_loss: 0.7514\n",
      "Epoch 249/300\n",
      "248/248 [==============================] - 3s 11ms/step - loss: 1.3894 - classification_loss: 0.2182 - kl_loss: 0.5270 - mmd_loss: 0.0320 - reconst_loss: 0.1163 - reconst_z_loss: 0.7532\n",
      "Epoch 250/300\n",
      "248/248 [==============================] - 3s 11ms/step - loss: 1.3950 - classification_loss: 0.2227 - kl_loss: 0.5270 - mmd_loss: 0.0320 - reconst_loss: 0.1160 - reconst_z_loss: 0.7548\n",
      "Epoch 251/300\n",
      "248/248 [==============================] - 3s 11ms/step - loss: 1.3943 - classification_loss: 0.2223 - kl_loss: 0.5273 - mmd_loss: 0.0319 - reconst_loss: 0.1160 - reconst_z_loss: 0.7535\n",
      "Epoch 252/300\n",
      "248/248 [==============================] - 3s 11ms/step - loss: 1.3954 - classification_loss: 0.2225 - kl_loss: 0.5268 - mmd_loss: 0.0320 - reconst_loss: 0.1160 - reconst_z_loss: 0.7563\n",
      "Epoch 253/300\n",
      "248/248 [==============================] - 3s 11ms/step - loss: 1.3933 - classification_loss: 0.2219 - kl_loss: 0.5269 - mmd_loss: 0.0320 - reconst_loss: 0.1162 - reconst_z_loss: 0.7555\n",
      "Epoch 254/300\n",
      "248/248 [==============================] - 3s 11ms/step - loss: 1.3949 - classification_loss: 0.2232 - kl_loss: 0.5270 - mmd_loss: 0.0320 - reconst_loss: 0.1160 - reconst_z_loss: 0.7583\n",
      "Epoch 255/300\n",
      "248/248 [==============================] - 3s 11ms/step - loss: 1.3945 - classification_loss: 0.2235 - kl_loss: 0.5266 - mmd_loss: 0.0320 - reconst_loss: 0.1160 - reconst_z_loss: 0.7573\n",
      "Epoch 256/300\n",
      "248/248 [==============================] - 3s 11ms/step - loss: 1.3981 - classification_loss: 0.2258 - kl_loss: 0.5271 - mmd_loss: 0.0320 - reconst_loss: 0.1161 - reconst_z_loss: 0.7590\n",
      "Epoch 257/300\n",
      "248/248 [==============================] - 3s 11ms/step - loss: 1.3959 - classification_loss: 0.2227 - kl_loss: 0.5270 - mmd_loss: 0.0320 - reconst_loss: 0.1160 - reconst_z_loss: 0.7570\n",
      "Epoch 258/300\n",
      "248/248 [==============================] - 3s 11ms/step - loss: 1.3926 - classification_loss: 0.2217 - kl_loss: 0.5270 - mmd_loss: 0.0321 - reconst_loss: 0.1163 - reconst_z_loss: 0.7547\n",
      "Epoch 259/300\n",
      "248/248 [==============================] - 3s 11ms/step - loss: 1.3921 - classification_loss: 0.2208 - kl_loss: 0.5271 - mmd_loss: 0.0320 - reconst_loss: 0.1161 - reconst_z_loss: 0.7549\n",
      "Epoch 260/300\n",
      "248/248 [==============================] - 3s 11ms/step - loss: 1.3951 - classification_loss: 0.2242 - kl_loss: 0.5269 - mmd_loss: 0.0320 - reconst_loss: 0.1161 - reconst_z_loss: 0.7594\n",
      "Epoch 261/300\n",
      "248/248 [==============================] - 3s 11ms/step - loss: 1.3958 - classification_loss: 0.2252 - kl_loss: 0.5268 - mmd_loss: 0.0319 - reconst_loss: 0.1161 - reconst_z_loss: 0.7615\n",
      "Epoch 262/300\n",
      "248/248 [==============================] - 3s 11ms/step - loss: 1.3939 - classification_loss: 0.2230 - kl_loss: 0.5267 - mmd_loss: 0.0321 - reconst_loss: 0.1162 - reconst_z_loss: 0.7640\n",
      "Epoch 263/300\n",
      "248/248 [==============================] - 3s 11ms/step - loss: 1.3927 - classification_loss: 0.2210 - kl_loss: 0.5267 - mmd_loss: 0.0320 - reconst_loss: 0.1163 - reconst_z_loss: 0.7650\n",
      "Epoch 264/300\n",
      "248/248 [==============================] - 3s 11ms/step - loss: 1.3936 - classification_loss: 0.2230 - kl_loss: 0.5267 - mmd_loss: 0.0319 - reconst_loss: 0.1161 - reconst_z_loss: 0.7654\n",
      "Epoch 265/300\n",
      "248/248 [==============================] - 3s 11ms/step - loss: 1.3869 - classification_loss: 0.2158 - kl_loss: 0.5267 - mmd_loss: 0.0320 - reconst_loss: 0.1161 - reconst_z_loss: 0.7671\n",
      "Epoch 266/300\n",
      "248/248 [==============================] - 3s 11ms/step - loss: 1.3904 - classification_loss: 0.2189 - kl_loss: 0.5266 - mmd_loss: 0.0320 - reconst_loss: 0.1160 - reconst_z_loss: 0.7698\n",
      "Epoch 267/300\n",
      "248/248 [==============================] - 3s 11ms/step - loss: 1.3943 - classification_loss: 0.2237 - kl_loss: 0.5269 - mmd_loss: 0.0319 - reconst_loss: 0.1161 - reconst_z_loss: 0.7654\n",
      "Epoch 268/300\n",
      "248/248 [==============================] - 3s 11ms/step - loss: 1.3939 - classification_loss: 0.2223 - kl_loss: 0.5266 - mmd_loss: 0.0320 - reconst_loss: 0.1161 - reconst_z_loss: 0.7684\n",
      "Epoch 269/300\n",
      "248/248 [==============================] - 3s 11ms/step - loss: 1.3881 - classification_loss: 0.2171 - kl_loss: 0.5266 - mmd_loss: 0.0320 - reconst_loss: 0.1162 - reconst_z_loss: 0.7710\n",
      "Epoch 270/300\n",
      "248/248 [==============================] - 3s 11ms/step - loss: 1.3889 - classification_loss: 0.2178 - kl_loss: 0.5264 - mmd_loss: 0.0320 - reconst_loss: 0.1159 - reconst_z_loss: 0.7756\n",
      "Epoch 271/300\n",
      "248/248 [==============================] - 3s 11ms/step - loss: 1.3942 - classification_loss: 0.2215 - kl_loss: 0.5266 - mmd_loss: 0.0319 - reconst_loss: 0.1161 - reconst_z_loss: 0.7719\n",
      "Epoch 272/300\n",
      "248/248 [==============================] - 3s 11ms/step - loss: 1.3895 - classification_loss: 0.2177 - kl_loss: 0.5265 - mmd_loss: 0.0320 - reconst_loss: 0.1162 - reconst_z_loss: 0.7756\n",
      "Epoch 273/300\n",
      "248/248 [==============================] - 3s 11ms/step - loss: 1.3842 - classification_loss: 0.2134 - kl_loss: 0.5263 - mmd_loss: 0.0320 - reconst_loss: 0.1163 - reconst_z_loss: 0.7746\n",
      "Epoch 274/300\n",
      "248/248 [==============================] - 3s 11ms/step - loss: 1.3865 - classification_loss: 0.2148 - kl_loss: 0.5266 - mmd_loss: 0.0320 - reconst_loss: 0.1161 - reconst_z_loss: 0.7777\n",
      "Epoch 275/300\n",
      "248/248 [==============================] - 3s 11ms/step - loss: 1.3897 - classification_loss: 0.2180 - kl_loss: 0.5265 - mmd_loss: 0.0320 - reconst_loss: 0.1159 - reconst_z_loss: 0.7738\n",
      "Epoch 276/300\n",
      "248/248 [==============================] - 3s 11ms/step - loss: 1.3860 - classification_loss: 0.2163 - kl_loss: 0.5267 - mmd_loss: 0.0319 - reconst_loss: 0.1160 - reconst_z_loss: 0.7744\n",
      "Epoch 277/300\n",
      "248/248 [==============================] - 3s 11ms/step - loss: 1.3931 - classification_loss: 0.2230 - kl_loss: 0.5268 - mmd_loss: 0.0319 - reconst_loss: 0.1161 - reconst_z_loss: 0.7759\n",
      "Epoch 278/300\n",
      "248/248 [==============================] - 3s 11ms/step - loss: 1.3941 - classification_loss: 0.2219 - kl_loss: 0.5264 - mmd_loss: 0.0320 - reconst_loss: 0.1160 - reconst_z_loss: 0.7768\n",
      "Epoch 279/300\n",
      "248/248 [==============================] - 3s 11ms/step - loss: 1.3943 - classification_loss: 0.2233 - kl_loss: 0.5265 - mmd_loss: 0.0320 - reconst_loss: 0.1159 - reconst_z_loss: 0.7808\n",
      "Epoch 280/300\n",
      "248/248 [==============================] - 3s 11ms/step - loss: 1.3845 - classification_loss: 0.2150 - kl_loss: 0.5266 - mmd_loss: 0.0320 - reconst_loss: 0.1160 - reconst_z_loss: 0.7834\n",
      "Epoch 281/300\n",
      "248/248 [==============================] - 3s 11ms/step - loss: 1.3856 - classification_loss: 0.2132 - kl_loss: 0.5264 - mmd_loss: 0.0321 - reconst_loss: 0.1160 - reconst_z_loss: 0.7850\n",
      "Epoch 282/300\n",
      "248/248 [==============================] - 3s 11ms/step - loss: 1.3857 - classification_loss: 0.2145 - kl_loss: 0.5265 - mmd_loss: 0.0320 - reconst_loss: 0.1162 - reconst_z_loss: 0.7842\n",
      "Epoch 283/300\n",
      "248/248 [==============================] - 3s 11ms/step - loss: 1.3929 - classification_loss: 0.2219 - kl_loss: 0.5263 - mmd_loss: 0.0319 - reconst_loss: 0.1159 - reconst_z_loss: 0.7880\n",
      "Epoch 284/300\n",
      "248/248 [==============================] - 3s 11ms/step - loss: 1.3899 - classification_loss: 0.2185 - kl_loss: 0.5266 - mmd_loss: 0.0320 - reconst_loss: 0.1158 - reconst_z_loss: 0.7898\n",
      "Epoch 285/300\n"
     ]
    },
    {
     "name": "stdout",
     "output_type": "stream",
     "text": [
      "248/248 [==============================] - 3s 11ms/step - loss: 1.3848 - classification_loss: 0.2147 - kl_loss: 0.5263 - mmd_loss: 0.0320 - reconst_loss: 0.1161 - reconst_z_loss: 0.7869\n",
      "Epoch 286/300\n",
      "248/248 [==============================] - 3s 11ms/step - loss: 1.3898 - classification_loss: 0.2189 - kl_loss: 0.5264 - mmd_loss: 0.0319 - reconst_loss: 0.1160 - reconst_z_loss: 0.7874\n",
      "Epoch 287/300\n",
      "248/248 [==============================] - 3s 11ms/step - loss: 1.3837 - classification_loss: 0.2118 - kl_loss: 0.5263 - mmd_loss: 0.0319 - reconst_loss: 0.1161 - reconst_z_loss: 0.7911\n",
      "Epoch 288/300\n",
      "248/248 [==============================] - 3s 11ms/step - loss: 1.3836 - classification_loss: 0.2131 - kl_loss: 0.5265 - mmd_loss: 0.0320 - reconst_loss: 0.1161 - reconst_z_loss: 0.7895\n",
      "Epoch 289/300\n",
      "248/248 [==============================] - 3s 11ms/step - loss: 1.3897 - classification_loss: 0.2191 - kl_loss: 0.5267 - mmd_loss: 0.0320 - reconst_loss: 0.1160 - reconst_z_loss: 0.7916\n",
      "Epoch 290/300\n",
      "248/248 [==============================] - 3s 11ms/step - loss: 1.3913 - classification_loss: 0.2193 - kl_loss: 0.5268 - mmd_loss: 0.0319 - reconst_loss: 0.1163 - reconst_z_loss: 0.7930\n",
      "Epoch 291/300\n",
      "248/248 [==============================] - 3s 11ms/step - loss: 1.3837 - classification_loss: 0.2140 - kl_loss: 0.5264 - mmd_loss: 0.0320 - reconst_loss: 0.1163 - reconst_z_loss: 0.7902\n",
      "Epoch 292/300\n",
      "248/248 [==============================] - 3s 11ms/step - loss: 1.3876 - classification_loss: 0.2153 - kl_loss: 0.5267 - mmd_loss: 0.0320 - reconst_loss: 0.1158 - reconst_z_loss: 0.7911\n",
      "Epoch 293/300\n",
      "248/248 [==============================] - 3s 11ms/step - loss: 1.3885 - classification_loss: 0.2166 - kl_loss: 0.5265 - mmd_loss: 0.0320 - reconst_loss: 0.1158 - reconst_z_loss: 0.7919\n",
      "Epoch 294/300\n",
      "248/248 [==============================] - 3s 11ms/step - loss: 1.3885 - classification_loss: 0.2180 - kl_loss: 0.5265 - mmd_loss: 0.0320 - reconst_loss: 0.1160 - reconst_z_loss: 0.7930\n",
      "Epoch 295/300\n",
      "248/248 [==============================] - 3s 11ms/step - loss: 1.3880 - classification_loss: 0.2176 - kl_loss: 0.5266 - mmd_loss: 0.0320 - reconst_loss: 0.1160 - reconst_z_loss: 0.7962\n",
      "Epoch 296/300\n",
      "248/248 [==============================] - 3s 11ms/step - loss: 1.3872 - classification_loss: 0.2169 - kl_loss: 0.5266 - mmd_loss: 0.0320 - reconst_loss: 0.1159 - reconst_z_loss: 0.7957\n",
      "Epoch 297/300\n",
      "248/248 [==============================] - 3s 11ms/step - loss: 1.3892 - classification_loss: 0.2158 - kl_loss: 0.5264 - mmd_loss: 0.0320 - reconst_loss: 0.1161 - reconst_z_loss: 0.8040\n",
      "Epoch 298/300\n",
      "248/248 [==============================] - 3s 11ms/step - loss: 1.3883 - classification_loss: 0.2167 - kl_loss: 0.5264 - mmd_loss: 0.0320 - reconst_loss: 0.1159 - reconst_z_loss: 0.8065\n",
      "Epoch 299/300\n",
      "248/248 [==============================] - 3s 11ms/step - loss: 1.3851 - classification_loss: 0.2153 - kl_loss: 0.5263 - mmd_loss: 0.0320 - reconst_loss: 0.1160 - reconst_z_loss: 0.8014\n",
      "Epoch 300/300\n",
      "248/248 [==============================] - 3s 11ms/step - loss: 1.3874 - classification_loss: 0.2164 - kl_loss: 0.5267 - mmd_loss: 0.0319 - reconst_loss: 0.1160 - reconst_z_loss: 0.7981\n"
     ]
    }
   ],
   "source": [
    "training_period(300, 128)"
   ]
  },
  {
   "cell_type": "code",
   "execution_count": 58,
   "metadata": {},
   "outputs": [],
   "source": [
    "\n",
    "zm, zls, z = encoding_module(X_train.values)\n",
    "\n",
    "\n",
    "\n",
    "\n"
   ]
  },
  {
   "cell_type": "code",
   "execution_count": 48,
   "metadata": {},
   "outputs": [
    {
     "data": {
      "text/plain": [
       "<matplotlib.collections.PathCollection at 0x25c65781d30>"
      ]
     },
     "execution_count": 48,
     "metadata": {},
     "output_type": "execute_result"
    },
    {
     "data": {
      "image/png": "[encoded data removed]",
      "text/plain": [
       "<Figure size 432x288 with 1 Axes>"
      ]
     },
     "metadata": {
      "needs_background": "light"
     },
     "output_type": "display_data"
    }
   ],
   "source": [
    "t = TSNE(n_components=2)\n",
    "r = t.fit_transform(X_train.values[:2000,1:])\n",
    "\n",
    "plt.scatter(r[:,0], r[:,1], c= X_train.values[:2000,0])"
   ]
  },
  {
   "cell_type": "code",
   "execution_count": 61,
   "metadata": {},
   "outputs": [
    {
     "data": {
      "text/plain": [
       "27314    1.0\n",
       "31381    1.0\n",
       "30713    0.0\n",
       "40890    0.0\n",
       "12278    0.0\n",
       "        ... \n",
       "12678    1.0\n",
       "20565    1.0\n",
       "36104    0.0\n",
       "12376    0.0\n",
       "44310    0.0\n",
       "Name: Age, Length: 31655, dtype: float32"
      ]
     },
     "execution_count": 61,
     "metadata": {},
     "output_type": "execute_result"
    }
   ],
   "source": [
    "r = t.fit_transform(z)"
   ]
  },
  {
   "cell_type": "code",
   "execution_count": 64,
   "metadata": {},
   "outputs": [
    {
     "data": {
      "text/plain": [
       "<matplotlib.collections.PathCollection at 0x25c036c77c0>"
      ]
     },
     "execution_count": 64,
     "metadata": {},
     "output_type": "execute_result"
    },
    {
     "data": {
      "image/png": "[encoded data removed]",
      "text/plain": [
       "<Figure size 432x288 with 1 Axes>"
      ]
     },
     "metadata": {
      "needs_background": "light"
     },
     "output_type": "display_data"
    }
   ],
   "source": [
    "\n",
    "plt.scatter(r[:,0], r[:,1], c= X_train.iloc[:,0])"
   ]
  },
  {
   "cell_type": "code",
   "execution_count": 50,
   "metadata": {},
   "outputs": [
    {
     "data": {
      "text/plain": [
       "<matplotlib.collections.PathCollection at 0x25c64c1b0a0>"
      ]
     },
     "execution_count": 50,
     "metadata": {},
     "output_type": "execute_result"
    },
    {
     "data": {
      "image/png": "[encoded data removed]",
      "text/plain": [
       "<Figure size 432x288 with 1 Axes>"
      ]
     },
     "metadata": {
      "needs_background": "light"
     },
     "output_type": "display_data"
    }
   ],
   "source": [
    "r = t.fit_transform(z)\n",
    "plt.scatter(r[:,0], r[:,1], c= X_train.values[:,0])"
   ]
  },
  {
   "cell_type": "markdown",
   "metadata": {},
   "source": [
    "### Examining results\n",
    "\n",
    "Examining the predictions from VFIB using the `p-rule`, we observe that the model converges to more fair latent representations when using all three losses (`NLB`, `KLD`, and `MMD`), while mantaining an `roc` score above 86%\n",
    "\n",
    "- We see that the p-rule gives a value of 35.4% when model is trained with all losses, 34.3% when trained with `NLB` and `KL`, and finally 32.5% when only trained with `NLB`.\n",
    "\n",
    "- We note that model accuracy suffers slightly as we add the MMD and KL constraints to the prediction loss\n"
   ]
  },
  {
   "cell_type": "code",
   "execution_count": 177,
   "metadata": {},
   "outputs": [
    {
     "name": "stdout",
     "output_type": "stream",
     "text": [
      "With loss : all\n",
      "roc 0.8871750180199427\n",
      "acc 0.8322399941033389\n",
      "p-rule 30.55407456569417\n",
      "\n"
     ]
    }
   ],
   "source": [
    "for loss_type in list(losses.keys()):\n",
    "    print('With loss : %s'%loss_type)\n",
    "    for r in list(res.keys()):\n",
    "        print(r, np.mean(losses[loss_type][r]))\n",
    "    print()\n"
   ]
  },
  {
   "cell_type": "markdown",
   "metadata": {},
   "source": [
    "### Note on statistical parity in test data\n",
    "Using the p-rule to plot true target distributions w.r.t the sensitive attribute `age`, we obtain a p-ratio of `~42%`, to which the VFIB comes close `(35.4%)`"
   ]
  },
  {
   "cell_type": "code",
   "execution_count": 158,
   "metadata": {},
   "outputs": [
    {
     "data": {
      "text/plain": [
       "41.969948364324"
      ]
     },
     "execution_count": 158,
     "metadata": {},
     "output_type": "execute_result"
    }
   ],
   "source": [
    "# Train Data\n",
    "p_rule(y_train, X_train.values[:,0])"
   ]
  },
  {
   "cell_type": "code",
   "execution_count": 159,
   "metadata": {},
   "outputs": [
    {
     "data": {
      "text/plain": [
       "42.746847811319334"
      ]
     },
     "execution_count": 159,
     "metadata": {},
     "output_type": "execute_result"
    }
   ],
   "source": [
    "# Test Data\n",
    "p_rule(y_test, X_test.values[:,0])"
   ]
  }
 ],
 "metadata": {
  "anaconda-cloud": {},
  "colab": {
   "name": "fairness-in-ml.ipynb",
   "provenance": []
  },
  "kernelspec": {
   "display_name": "Python 3",
   "language": "python",
   "name": "python3"
  },
  "language_info": {
   "codemirror_mode": {
    "name": "ipython",
    "version": 3
   },
   "file_extension": ".py",
   "mimetype": "text/x-python",
   "name": "python",
   "nbconvert_exporter": "python",
   "pygments_lexer": "ipython3",
   "version": "3.8.5-final"
  }
 },
 "nbformat": 4,
 "nbformat_minor": 1
}