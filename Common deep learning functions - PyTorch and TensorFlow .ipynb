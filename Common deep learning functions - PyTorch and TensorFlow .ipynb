{
 "cells": [
  {
   "cell_type": "markdown",
   "metadata": {},
   "source": [
    "## Translating deep learning code \n",
    "### from Pytorch to TensorFlow \n",
    "\n",
    "\n",
    "This notebook contains both Tensorflow and Pytorch versions of functions from the Paper: ***Variational fair Information bottlekneck***. \n",
    "\n",
    "- The original PyTorch functions were retrieved from the author's GitHub repo, which can be found at: https://github.com/sajadn/Variational-Fair-Information-Bottleneck\n",
    "\n",
    "\n",
    "Notebook Author : Niloy Purkait"
   ]
  },
  {
   "cell_type": "code",
   "execution_count": 1,
   "metadata": {},
   "outputs": [],
   "source": [
    "import tensorflow as tf\n",
    "from tensorflow.keras import backend as K\n",
    "import numpy as np\n",
    "import torch\n",
    "\n"
   ]
  },
  {
   "cell_type": "code",
   "execution_count": 2,
   "metadata": {},
   "outputs": [
    {
     "name": "stdout",
     "output_type": "stream",
     "text": [
      "numpy: 1.19.2\n",
      "Pytorch: 1.7.1\n",
      "TensorFlow: 2.4.1\n",
      "keras: 2.4.0\n"
     ]
    }
   ],
   "source": [
    "print(f\"numpy: {np.__version__}\")\n",
    "print(f\"Pytorch: {torch.__version__}\")\n",
    "print(f\"TensorFlow: {tf.__version__}\")\n",
    "print(f\"keras: {tf.keras.__version__}\")"
   ]
  },
  {
   "cell_type": "markdown",
   "metadata": {},
   "source": [
    "### Make some random tensors"
   ]
  },
  {
   "cell_type": "code",
   "execution_count": 3,
   "metadata": {},
   "outputs": [],
   "source": [
    "#random tensors\n",
    "\n",
    "#Tensorflow\n",
    "tf_T = tf.random.uniform([2,5])\n",
    "\n",
    "# Same tensor to pytorch\n",
    "pt_T = torch.tensor(tf_T.numpy())"
   ]
  },
  {
   "cell_type": "code",
   "execution_count": 4,
   "metadata": {},
   "outputs": [
    {
     "data": {
      "text/plain": [
       "TensorShape([2, 5])"
      ]
     },
     "execution_count": 4,
     "metadata": {},
     "output_type": "execute_result"
    }
   ],
   "source": [
    "tf_T.shape# check shape of tf tensor"
   ]
  },
  {
   "cell_type": "code",
   "execution_count": 5,
   "metadata": {},
   "outputs": [
    {
     "data": {
      "text/plain": [
       "torch.Size([2, 5])"
      ]
     },
     "execution_count": 5,
     "metadata": {},
     "output_type": "execute_result"
    }
   ],
   "source": [
    "pt_T.size()# Check shape of pt tensor"
   ]
  },
  {
   "cell_type": "markdown",
   "metadata": {},
   "source": [
    "### Gaussian Entropy"
   ]
  },
  {
   "cell_type": "code",
   "execution_count": 6,
   "metadata": {},
   "outputs": [],
   "source": [
    "# Pytorch\n",
    "def entropy_gaussian(mu, sigma, mean=True):\n",
    "    msigma = sigma.view(sigma.shape[0], -1)\n",
    "    return torch.mean(0.5*(msigma))"
   ]
  },
  {
   "cell_type": "code",
   "execution_count": 122,
   "metadata": {},
   "outputs": [],
   "source": [
    "#TensorFlow\n",
    "def tf_entropy_gaussian(mu, sigma, mean=True):\n",
    "    msigma = tf.reshape(sigma, (K.shape(sigma)[0], -1))\n",
    "    return tf.reduce_mean(0.5*msigma)"
   ]
  },
  {
   "cell_type": "code",
   "execution_count": 123,
   "metadata": {},
   "outputs": [
    {
     "data": {
      "text/plain": [
       "tensor(0.2487)"
      ]
     },
     "execution_count": 123,
     "metadata": {},
     "output_type": "execute_result"
    }
   ],
   "source": [
    "# Pytorch test\n",
    "entropy_gaussian(pt_T, pt_T)"
   ]
  },
  {
   "cell_type": "code",
   "execution_count": 124,
   "metadata": {},
   "outputs": [
    {
     "data": {
      "text/plain": [
       "<tf.Tensor: shape=(), dtype=float32, numpy=0.24871483>"
      ]
     },
     "execution_count": 124,
     "metadata": {},
     "output_type": "execute_result"
    }
   ],
   "source": [
    "# TensorFlow test\n",
    "tf_entropy_gaussian(tf_T,tf_T)"
   ]
  },
  {
   "cell_type": "markdown",
   "metadata": {},
   "source": [
    "### Negative Log Gaussian"
   ]
  },
  {
   "cell_type": "code",
   "execution_count": 165,
   "metadata": {},
   "outputs": [],
   "source": [
    "\n",
    "def negative_log_gaussian(data, mu, sigma, mean=True):\n",
    "    EPSILON = torch.tensor(10e-25).double()\n",
    "    mdata = data.view(data.shape[0], -1)\n",
    "    mmu = mu.view(data.shape[0], -1)\n",
    "    msigma = sigma.view(data.shape[0], -1)\n",
    "\n",
    "    return 0.5*torch.mean((mdata-mmu)**2/(torch.exp(msigma)+EPSILON) + msigma)"
   ]
  },
  {
   "cell_type": "code",
   "execution_count": 166,
   "metadata": {},
   "outputs": [],
   "source": [
    "\n",
    "\n",
    "def tf_negative_log_gaussian(data, mu, sigma, mean=True):\n",
    "    EPSILON = tf.constant([10e-25])\n",
    "    mdata = tf.reshape(data, (K.shape(data)[0], -1))\n",
    "    mmu = tf.reshape(mu, (K.shape(data)[0], -1))\n",
    "    msigma = tf.reshape(sigma, (K.shape(data)[0], -1))\n",
    "\n",
    "    return 0.5 * tf.reduce_mean((mdata-mmu)**2/(K.exp(msigma)+EPSILON) + msigma)\n"
   ]
  },
  {
   "cell_type": "code",
   "execution_count": 167,
   "metadata": {},
   "outputs": [
    {
     "data": {
      "text/plain": [
       "tensor(0.2487)"
      ]
     },
     "execution_count": 167,
     "metadata": {},
     "output_type": "execute_result"
    }
   ],
   "source": [
    "# Pytorch test\n",
    "negative_log_gaussian(pt_T,pt_T,pt_T)"
   ]
  },
  {
   "cell_type": "code",
   "execution_count": 168,
   "metadata": {},
   "outputs": [
    {
     "data": {
      "text/plain": [
       "<tf.Tensor: shape=(), dtype=float32, numpy=0.24871483>"
      ]
     },
     "execution_count": 168,
     "metadata": {},
     "output_type": "execute_result"
    }
   ],
   "source": [
    "#TensorFlow test\n",
    "tf_negative_log_gaussian(tf_T,tf_T,tf_T)"
   ]
  },
  {
   "cell_type": "markdown",
   "metadata": {},
   "source": [
    "### Negative log bernoulli"
   ]
  },
  {
   "cell_type": "code",
   "execution_count": 19,
   "metadata": {},
   "outputs": [],
   "source": [
    "# Pytorch\n",
    "log_sigmoid = torch.nn.LogSigmoid()\n",
    "def negative_log_bernoulli(data, mu, mean=True, clamp=True):\n",
    "    if clamp:\n",
    "        mu = torch.clamp(mu, min=-9.5, max=9.5)\n",
    "    mdata = data.view(data.shape[0], -1)\n",
    "    mmu = mu.view(data.shape[0], -1)\n",
    "    log_prob_1 = log_sigmoid(mmu)\n",
    "    log_prob_2 = log_sigmoid(-mmu)\n",
    "    log_likelihood = -torch.mean((mdata*log_prob_1)+(1-mdata)*log_prob_2)\n",
    "    return log_likelihood"
   ]
  },
  {
   "cell_type": "code",
   "execution_count": 169,
   "metadata": {},
   "outputs": [],
   "source": [
    "# TensorFlow\n",
    "def tf_negative_log_bernoulli(data, mu, mean=True, clamp=True):\n",
    "    cast_shape = lambda x, d : tf.reshape(x, (K.shape(d)[0],-1))\n",
    "    if clamp:\n",
    "        mu = K.clip(mu, -9.5, 9.5)\n",
    "\n",
    "    \n",
    "    mdata = cast_shape(data, data)\n",
    "\n",
    "    mmu = cast_shape(mu, data)\n",
    "\n",
    "    log_prob_1 = tf.math.log_sigmoid(mmu)\n",
    "    log_prob_2 = tf.math.log_sigmoid(-mmu)\n",
    "    log_likelihood = -tf.reduce_mean((mdata*log_prob_1)+(1-mdata)*log_prob_2)\n",
    "    return log_likelihood\n",
    "\n",
    "def nlb( true, pred, mean=True, clamp=True):\n",
    "    if clamp:\n",
    "        pred = K.clip(pred, -9.5, 9.5)\n",
    "\n",
    "    mdata = tf.reshape(true, (true.shape[0],-1))\n",
    "\n",
    "    mmu = tf.reshape(pred, (true.shape[0],-1))\n",
    "\n",
    "    log_prob_1 = tf.math.log_sigmoid(mmu)\n",
    "    log_prob_2 = tf.math.log_sigmoid(-mmu)\n",
    "    log_likelihood = -tf.reduce_mean((mdata*log_prob_1)+(1-mdata)*log_prob_2)\n",
    "    return log_likelihood"
   ]
  },
  {
   "cell_type": "markdown",
   "metadata": {},
   "source": [
    "### More random tensors for testing"
   ]
  },
  {
   "cell_type": "code",
   "execution_count": 170,
   "metadata": {},
   "outputs": [],
   "source": [
    "#more random tensors\n",
    "array = tf.random.normal((2,))\n",
    "mu = tf.random.uniform(shape=array.shape)\n",
    "\n",
    "\n",
    "#convert to pytorch tensors again\n",
    "array_torch = torch.tensor(array.numpy())\n",
    "mu_torch = torch.tensor(mu.numpy())"
   ]
  },
  {
   "cell_type": "code",
   "execution_count": 171,
   "metadata": {},
   "outputs": [
    {
     "data": {
      "text/plain": [
       "tensor(1.1114)"
      ]
     },
     "execution_count": 171,
     "metadata": {},
     "output_type": "execute_result"
    }
   ],
   "source": [
    "# Pytorch test\n",
    "negative_log_bernoulli(array_torch, mu_torch) "
   ]
  },
  {
   "cell_type": "code",
   "execution_count": 172,
   "metadata": {},
   "outputs": [
    {
     "data": {
      "text/plain": [
       "<tf.Tensor: shape=(), dtype=float32, numpy=1.111367>"
      ]
     },
     "execution_count": 172,
     "metadata": {},
     "output_type": "execute_result"
    }
   ],
   "source": [
    "# TensorFlow test\n",
    "tf_negative_log_bernoulli(array, mu , mean=True, clamp=True)"
   ]
  },
  {
   "cell_type": "markdown",
   "metadata": {},
   "source": [
    "### KL Divergence loss"
   ]
  },
  {
   "cell_type": "code",
   "execution_count": 107,
   "metadata": {},
   "outputs": [],
   "source": [
    "#Pytorch\n",
    "def KL(mu, log_sigma):\n",
    "    return 0.5*(-log_sigma + mu**2 + log_sigma.exp()).mean()\n",
    "\n",
    "#TensorFlow\n",
    "def KL(mu, log_sigma):\n",
    "    kl_loss = 0.5 * tf.reduce_mean(( - log_sigma + K.square(mu) + K.exp(log_sigma)))\n",
    "    return kl_loss"
   ]
  },
  {
   "cell_type": "code",
   "execution_count": 108,
   "metadata": {},
   "outputs": [
    {
     "data": {
      "text/plain": [
       "<tf.Tensor: shape=(), dtype=float32, numpy=1.4285445>"
      ]
     },
     "execution_count": 108,
     "metadata": {},
     "output_type": "execute_result"
    }
   ],
   "source": [
    "#Pytorch test\n",
    "KL(array_torch, mu_torch)"
   ]
  },
  {
   "cell_type": "code",
   "execution_count": 109,
   "metadata": {},
   "outputs": [
    {
     "data": {
      "text/plain": [
       "<tf.Tensor: shape=(), dtype=float32, numpy=1.4285445>"
      ]
     },
     "execution_count": 109,
     "metadata": {},
     "output_type": "execute_result"
    }
   ],
   "source": [
    "#TensorFlow test\n",
    "tf_KL(array,mu)"
   ]
  },
  {
   "cell_type": "markdown",
   "metadata": {},
   "source": [
    "### Kernel function\n"
   ]
  },
  {
   "cell_type": "code",
   "execution_count": 18,
   "metadata": {},
   "outputs": [],
   "source": [
    "# Pytorch\n",
    "def kernel(a, b): #N x M, K x M\n",
    "    dist1 = (a**2).sum(dim=1).unsqueeze(1).expand(-1, b.shape[0]) #N x C\n",
    "    dist2 = (b**2).sum(dim=1).unsqueeze(0).expand(a.shape[0], -1) #N x C\n",
    "    dist3 = torch.mm(a, b.transpose(0, 1))\n",
    "    dist = (dist1 + dist2) - (2 * dist3)\n",
    "    return torch.mean(torch.exp(-dist))"
   ]
  },
  {
   "cell_type": "code",
   "execution_count": 19,
   "metadata": {},
   "outputs": [],
   "source": [
    "# TensorFlow\n",
    "def tf_kernel(a,b):\n",
    "    dist1 = tf.expand_dims(tf.math.reduce_sum((a**2), axis=1), axis=1) * tf.ones(shape=(1,b.shape[0]))\n",
    "    dist2 = tf.expand_dims(tf.math.reduce_sum((b**2), axis=1), axis=0)* tf.ones(shape=(a.shape[0], 1))\n",
    "    dist3 = tf.matmul(a, tf.transpose(b, perm=[1, 0]))\n",
    "    dist = (dist1 + dist2) - (2 * dist3)\n",
    "    return tf.reduce_mean(tf.math.exp(-dist))"
   ]
  },
  {
   "cell_type": "code",
   "execution_count": 34,
   "metadata": {},
   "outputs": [],
   "source": [
    "# TensorFlow\n",
    "def tf_kernel(a,b):\n",
    "    r_sum = lambda x : tf.math.reduce_sum(x**2, axis=1)\n",
    "    expand = lambda x, d : tf.expand_dims(x, d)\n",
    "    matmul = lambda x,y : tf.matmul(x,y)\n",
    "    transpose = lambda x : tf.transpose(x, perm=[1, 0])\n",
    "    norm = lambda x,y,z : (x+y) - (2*z)\n",
    "    \n",
    "    dist1 = expand(r_sum(a), 1) * tf.ones(shape=(1,b.shape[0]))\n",
    "    dist2 = expand(r_sum(b), 0) * tf.ones(shape=(a.shape[0], 1))\n",
    "    dist3 = matmul(a, transpose(b))\n",
    "    dist = norm(dist1, dist2, dist3)\n",
    "    return tf.reduce_mean(tf.math.exp(-dist))"
   ]
  },
  {
   "cell_type": "code",
   "execution_count": 35,
   "metadata": {},
   "outputs": [],
   "source": [
    "# And more random tensors\n",
    "array_pt_1 = torch.normal(mean=0, std=1, size=(4,1))\n",
    "array_pt_2 = torch.normal(mean=0, std=1, size=(2,1))\n"
   ]
  },
  {
   "cell_type": "code",
   "execution_count": 36,
   "metadata": {},
   "outputs": [],
   "source": [
    "# Convert to tensors\n",
    "array_tf_1, array_tf_2 = [tf.constant(x.numpy()) for x in [array_pt_1, array_pt_2]]"
   ]
  },
  {
   "cell_type": "code",
   "execution_count": 37,
   "metadata": {},
   "outputs": [
    {
     "data": {
      "text/plain": [
       "<tf.Tensor: shape=(), dtype=float32, numpy=0.4131442>"
      ]
     },
     "execution_count": 37,
     "metadata": {},
     "output_type": "execute_result"
    }
   ],
   "source": [
    "# TensorFlow test\n",
    "tf_kernel(array_tf_1,array_tf_2)"
   ]
  },
  {
   "cell_type": "code",
   "execution_count": 38,
   "metadata": {},
   "outputs": [
    {
     "data": {
      "text/plain": [
       "tensor(0.4131)"
      ]
     },
     "execution_count": 38,
     "metadata": {},
     "output_type": "execute_result"
    }
   ],
   "source": [
    "# Pytorch Test\n",
    "kernel(array_pt_1,array_pt_2)"
   ]
  },
  {
   "cell_type": "code",
   "execution_count": null,
   "metadata": {},
   "outputs": [],
   "source": []
  }
 ],
 "metadata": {
  "kernelspec": {
   "display_name": "Python 3",
   "language": "python",
   "name": "python3"
  },
  "language_info": {
   "codemirror_mode": {
    "name": "ipython",
    "version": 3
   },
   "file_extension": ".py",
   "mimetype": "text/x-python",
   "name": "python",
   "nbconvert_exporter": "python",
   "pygments_lexer": "ipython3",
   "version": "3.8.5"
  }
 },
 "nbformat": 4,
 "nbformat_minor": 4
}
